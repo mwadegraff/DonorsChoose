{
 "cells": [
  {
   "cell_type": "markdown",
   "metadata": {},
   "source": [
    "## Load libraries"
   ]
  },
  {
   "cell_type": "code",
   "execution_count": 1,
   "metadata": {
    "collapsed": true
   },
   "outputs": [],
   "source": [
    "# Set up test mode to save some time\n",
    "test_mode = True"
   ]
  },
  {
   "cell_type": "code",
   "execution_count": 2,
   "metadata": {
    "collapsed": true
   },
   "outputs": [],
   "source": [
    "#enable auto complete\n",
    "%config IPCompleter.greedy=True\n",
    "%matplotlib inline\n",
    "\n",
    "import pandas as pd # package for high-performance, easy-to-use data structures and data analysis\n",
    "import numpy as np # fundamental package for scientific computing with Python\n",
    "import matplotlib as cm\n",
    "import matplotlib.pyplot as plt # for plotting\n",
    "import seaborn as sns # for making plots with seaborn\n",
    "color = sns.color_palette()\n",
    "import scipy\n",
    "from scipy.sparse.linalg import svds\n",
    "import math\n",
    "import random\n",
    "import sklearn\n",
    "\n",
    "from numpy import array\n",
    "\n",
    "from nltk.corpus import stopwords\n",
    "from sklearn.model_selection import train_test_split\n",
    "from sklearn.feature_extraction.text import TfidfVectorizer\n",
    "from sklearn.metrics.pairwise import cosine_similarity\n",
    "\n",
    "\n",
    "#import os\n",
    "#print(os.listdir(\"../input\"))\n",
    "\n",
    "from sklearn import preprocessing\n",
    "# Supress unnecessary warnings so that presentation looks clean\n",
    "import warnings\n",
    "warnings.filterwarnings(\"ignore\")\n",
    "\n",
    "# Print all rows and columns\n",
    "pd.set_option('display.max_columns', 21)\n",
    "pd.set_option('display.max_rows', None)"
   ]
  },
  {
   "cell_type": "markdown",
   "metadata": {},
   "source": [
    "## Load data"
   ]
  },
  {
   "cell_type": "code",
   "execution_count": 48,
   "metadata": {
    "collapsed": true
   },
   "outputs": [],
   "source": [
    "projects = pd.read_csv('Projects.csv')\n",
    "#donations = pd.read_csv('Donations.csv')\n",
    "#donors = pd.read_csv('Donors.csv', low_memory=False)"
   ]
  },
  {
   "cell_type": "code",
   "execution_count": 49,
   "metadata": {},
   "outputs": [
    {
     "name": "stdout",
     "output_type": "stream",
     "text": [
      " donations:  (4687884, 7) \n",
      " donors:  (2122640, 6) \n",
      " projects (1208651, 15)\n"
     ]
    }
   ],
   "source": [
    "print(' donations: ',donations.shape,'\\n','donors: ',donors.shape,'\\n','projects',projects.shape)"
   ]
  },
  {
   "cell_type": "code",
   "execution_count": 50,
   "metadata": {},
   "outputs": [],
   "source": [
    "#donors.head(2)\n",
    "#donations.head(2)"
   ]
  },
  {
   "cell_type": "code",
   "execution_count": 51,
   "metadata": {
    "scrolled": true
   },
   "outputs": [
    {
     "name": "stdout",
     "output_type": "stream",
     "text": [
      " df:  (4687884, 12) \n",
      " donors:  (2122640, 6)\n"
     ]
    }
   ],
   "source": [
    "#this piece of code converts Donor_ID which is a 32-bit Hex int digits 10-1010\n",
    "\n",
    "# create column \"donor_id\" with sequential integers\n",
    "b=len(donors)\n",
    "donors['donor_id'] = np.nan\n",
    "a = list(range(10,b+10))\n",
    "a = pd.Series(a)\n",
    "donors['donor_id'] = a.values\n",
    "\n",
    "\n",
    "#add donor_id to donors\n",
    "df = pd.merge(donations, donors, on='Donor ID', how='left')\n",
    "print(' df: ',df.shape,'\\n','donors: ',donors.shape)"
   ]
  },
  {
   "cell_type": "code",
   "execution_count": 52,
   "metadata": {},
   "outputs": [],
   "source": [
    "#donations.head(1)"
   ]
  },
  {
   "cell_type": "code",
   "execution_count": 53,
   "metadata": {},
   "outputs": [
    {
     "data": {
      "text/plain": [
       "0"
      ]
     },
     "execution_count": 53,
     "metadata": {},
     "output_type": "execute_result"
    }
   ],
   "source": [
    "#check for donor_id duplicates\n",
    "from collections import Counter\n",
    "mylist = df.donor_id\n",
    "a=[k for k,v in Counter(mylist).items() if v>1]\n",
    "len(a)"
   ]
  },
  {
   "cell_type": "code",
   "execution_count": 54,
   "metadata": {},
   "outputs": [
    {
     "name": "stdout",
     "output_type": "stream",
     "text": [
      " df shape:  (4687887, 27) \n",
      " projects:  (1208651, 16)\n"
     ]
    }
   ],
   "source": [
    "#this piece of code converts Project_ID which is a 32-bit Hex int digits 10-1010\n",
    "\n",
    "# create column \"project_id\" with sequential integers\n",
    "f=len(projects)\n",
    "projects['project_id'] = np.nan\n",
    "g = list(range(10,f+10))\n",
    "g = pd.Series(g)\n",
    "projects['project_id'] = g.values\n",
    "\n",
    "#add project_id to projects\n",
    "df = pd.merge(df, projects, on='Project ID', how='left')\n",
    "\n",
    "print(' df shape: ',df.shape,'\\n','projects: ',projects.shape)"
   ]
  },
  {
   "cell_type": "code",
   "execution_count": 55,
   "metadata": {},
   "outputs": [],
   "source": [
    "#donations.head(1)"
   ]
  },
  {
   "cell_type": "code",
   "execution_count": 56,
   "metadata": {},
   "outputs": [],
   "source": [
    "#list(donations.columns.values)"
   ]
  },
  {
   "cell_type": "code",
   "execution_count": 57,
   "metadata": {},
   "outputs": [
    {
     "data": {
      "text/plain": [
       "0"
      ]
     },
     "execution_count": 57,
     "metadata": {},
     "output_type": "execute_result"
    }
   ],
   "source": [
    "#check for project_id duplicates\n",
    "from collections import Counter\n",
    "mylist = projects.project_id\n",
    "a=[k for k,v in Counter(mylist).items() if v>1]\n",
    "len(a)"
   ]
  },
  {
   "cell_type": "code",
   "execution_count": 58,
   "metadata": {},
   "outputs": [
    {
     "data": {
      "text/plain": [
       "552673"
      ]
     },
     "execution_count": 58,
     "metadata": {},
     "output_type": "execute_result"
    }
   ],
   "source": [
    "#check for donor_id duplicates\n",
    "from collections import Counter\n",
    "mylist = df.donor_id\n",
    "a=[k for k,v in Counter(mylist).items() if v>1]\n",
    "len(a)"
   ]
  },
  {
   "cell_type": "markdown",
   "metadata": {},
   "source": [
    "### Set up test mode where only 10000 rows of donation/donor dataframe are used. \n",
    "When testing is complete we will need to turn off test mode."
   ]
  },
  {
   "cell_type": "code",
   "execution_count": 59,
   "metadata": {},
   "outputs": [
    {
     "name": "stdout",
     "output_type": "stream",
     "text": [
      "shape of df is  (10000, 27)\n"
     ]
    }
   ],
   "source": [
    "# only load a few lines in test mode\n",
    "if test_mode:\n",
    "    df = df.head(10000)\n",
    "\n",
    "donations_df = df\n",
    "print('shape of df is ',df.shape)"
   ]
  },
  {
   "cell_type": "code",
   "execution_count": 60,
   "metadata": {},
   "outputs": [
    {
     "name": "stdout",
     "output_type": "stream",
     "text": [
      " donations:  (4687884, 7) \n",
      " donors:  (2122640, 6) \n",
      " shape of df is  (10000, 27)\n"
     ]
    }
   ],
   "source": [
    "print(' donations: ',donations.shape,'\\n','donors: ',donors.shape,'\\n', 'shape of df is ',df.shape)"
   ]
  },
  {
   "cell_type": "code",
   "execution_count": 61,
   "metadata": {},
   "outputs": [
    {
     "name": "stdout",
     "output_type": "stream",
     "text": [
      "# of projects: 1889\n",
      "# of unique user/project donations: 8631\n"
     ]
    }
   ],
   "source": [
    "# Deal with missing values\n",
    "donations[\"Donation Amount\"] = donations[\"Donation Amount\"].fillna(0)\n",
    "\n",
    "# Define event strength as the donated amount to a certain project\n",
    "donations_df['eventStrength'] = donations_df['Donation Amount']\n",
    "\n",
    "def smooth_donor_preference(x):\n",
    "    return math.log(1+x, 2)\n",
    "    \n",
    "donations_full_df = donations_df \\\n",
    "                    .groupby(['donor_id', 'project_id'])['eventStrength'].sum() \\\n",
    "                    .apply(smooth_donor_preference).reset_index()\n",
    "        \n",
    "# Update projects dataset\n",
    "project_cols = projects.columns\n",
    "projects = df[project_cols].drop_duplicates()\n",
    "\n",
    "print('# of projects: %d' % len(projects))\n",
    "print('# of unique user/project donations: %d' % len(donations_full_df))"
   ]
  },
  {
   "cell_type": "code",
   "execution_count": 62,
   "metadata": {},
   "outputs": [
    {
     "data": {
      "text/html": [
       "<div>\n",
       "<style>\n",
       "    .dataframe thead tr:only-child th {\n",
       "        text-align: right;\n",
       "    }\n",
       "\n",
       "    .dataframe thead th {\n",
       "        text-align: left;\n",
       "    }\n",
       "\n",
       "    .dataframe tbody tr th {\n",
       "        vertical-align: top;\n",
       "    }\n",
       "</style>\n",
       "<table border=\"1\" class=\"dataframe\">\n",
       "  <thead>\n",
       "    <tr style=\"text-align: right;\">\n",
       "      <th></th>\n",
       "      <th>donor_id</th>\n",
       "      <th>project_id</th>\n",
       "      <th>eventStrength</th>\n",
       "    </tr>\n",
       "  </thead>\n",
       "  <tbody>\n",
       "    <tr>\n",
       "      <th>0</th>\n",
       "      <td>144.0</td>\n",
       "      <td>437585</td>\n",
       "      <td>5.672425</td>\n",
       "    </tr>\n",
       "    <tr>\n",
       "      <th>1</th>\n",
       "      <td>528.0</td>\n",
       "      <td>405327</td>\n",
       "      <td>4.700440</td>\n",
       "    </tr>\n",
       "    <tr>\n",
       "      <th>2</th>\n",
       "      <td>618.0</td>\n",
       "      <td>556052</td>\n",
       "      <td>4.700440</td>\n",
       "    </tr>\n",
       "    <tr>\n",
       "      <th>3</th>\n",
       "      <td>668.0</td>\n",
       "      <td>49138</td>\n",
       "      <td>3.087463</td>\n",
       "    </tr>\n",
       "    <tr>\n",
       "      <th>4</th>\n",
       "      <td>754.0</td>\n",
       "      <td>1045629</td>\n",
       "      <td>5.672425</td>\n",
       "    </tr>\n",
       "  </tbody>\n",
       "</table>\n",
       "</div>"
      ],
      "text/plain": [
       "   donor_id  project_id  eventStrength\n",
       "0     144.0      437585       5.672425\n",
       "1     528.0      405327       4.700440\n",
       "2     618.0      556052       4.700440\n",
       "3     668.0       49138       3.087463\n",
       "4     754.0     1045629       5.672425"
      ]
     },
     "execution_count": 62,
     "metadata": {},
     "output_type": "execute_result"
    }
   ],
   "source": [
    "donations_full_df.head()"
   ]
  },
  {
   "cell_type": "markdown",
   "metadata": {
    "collapsed": true
   },
   "source": [
    "# Evaluation"
   ]
  },
  {
   "cell_type": "markdown",
   "metadata": {},
   "source": [
    "Evaluation is important for machine learning projects, because it allows to compare objectivelly different algorithms and hyperparameter choices for models.\n",
    "One key aspect of evaluation is to ensure that the trained model generalizes for data it was not trained on, using Cross-validation techniques. We are using here a simple cross-validation approach named holdout, in which a random data sample (20% in this case) are kept aside in the training process, and exclusively used for evaluation. All evaluation metrics reported here are computed using the test set.\n",
    "\n",
    "Ps. A more robust evaluation approach could be to split train and test sets by a reference date, where the train set is composed by all interactions before that date, and the test set are interactions after that date. For the sake of simplicity, we chose the first random approach for this notebook, but you may want to try the second approach to better simulate how the recsys would perform in production predicting \"future\" users interactions."
   ]
  },
  {
   "cell_type": "code",
   "execution_count": 63,
   "metadata": {},
   "outputs": [
    {
     "name": "stdout",
     "output_type": "stream",
     "text": [
      "# donations on Train set: 6904\n",
      "# donations on Test set: 1727\n"
     ]
    }
   ],
   "source": [
    "donations_train_df, donations_test_df = train_test_split(donations_full_df,\n",
    "                                   test_size=0.20,\n",
    "                                   random_state=42)\n",
    "\n",
    "print('# donations on Train set: %d' % len(donations_train_df))\n",
    "print('# donations on Test set: %d' % len(donations_test_df))"
   ]
  },
  {
   "cell_type": "code",
   "execution_count": 64,
   "metadata": {
    "collapsed": true
   },
   "outputs": [],
   "source": [
    "#Indexing by donor_id to speed up the searches during evaluation\n",
    "donations_full_indexed_df = donations_full_df.set_index('donor_id')\n",
    "donations_train_indexed_df = donations_train_df.set_index('donor_id')\n",
    "donations_test_indexed_df = donations_test_df.set_index('donor_id')"
   ]
  },
  {
   "cell_type": "markdown",
   "metadata": {},
   "source": [
    "person_id -> 'donor_id'\n",
    "contentId -> project_id\n",
    "articles_df -> donations_df\n",
    "item_id -> 'project_id'\n",
    "interactions_df -> donations_df\n",
    "interactions -> donations\n",
    "items -> projects\n",
    "interacted -> donated`"
   ]
  },
  {
   "cell_type": "code",
   "execution_count": 65,
   "metadata": {
    "collapsed": true
   },
   "outputs": [],
   "source": [
    "def get_proj_donated(donor_id, donations_df):\n",
    "    # Get the user's data and merge in project info\n",
    "    donated_projects = donations_df.loc[donor_id]['project_id']\n",
    "    return set(donated_projects if type(donated_projects) == pd.Series else [donated_projects])"
   ]
  },
  {
   "cell_type": "code",
   "execution_count": 67,
   "metadata": {
    "collapsed": true
   },
   "outputs": [],
   "source": [
    "#Top-N accuracy metrics consts\n",
    "EVAL_RANDOM_SAMPLE_NON_PROJECTS = 100\n",
    "\n",
    "class ModelEvaluator:\n",
    "\n",
    "\n",
    "    def get_not_donated_projects_sample(self, donor_id, sample_size, seed=42):\n",
    "        donated_projects = get_proj_donated(donor_id, donations_full_indexed_df)\n",
    "        all_projects = set(projects_df['project_id'])\n",
    "        non_donated_projects = all_projects - donated_projects\n",
    "\n",
    "        random.seed(seed)\n",
    "        non_donated_projects_sample = random.sample(non_donated_projects, sample_size)\n",
    "        return set(non_donated_projects_sample)\n",
    "\n",
    "    def _verify_hit_top_n(self, project_id, recommended_projects, topn):        \n",
    "            try:\n",
    "                index = next(i for i, c in enumerate(recommended_projects) if c == project_id)\n",
    "            except:\n",
    "                index = -1\n",
    "            hit = int(index in range(0, topn))\n",
    "            return hit, index\n",
    "\n",
    "    def evaluate_model_for_user(self, model, donor_id):\n",
    "        #Getting the projects in test set\n",
    "        donated_values_testset = donations_test_indexed_df.loc[donor_id]\n",
    "        if type(donated_values_testset['project_id']) == pd.Series:\n",
    "            person_donated_projects_testset = set(donated_values_testset['project_id'])\n",
    "        else:\n",
    "            person_donated_projects_testset = set([int(donated_values_testset['project_id'])])  \n",
    "        donated_projects_count_testset = len(person_donated_projects_testset) \n",
    "\n",
    "        #Getting a ranked recommendation list from a model for a given user\n",
    "        person_recs_df = model.recommend_projects(donor_id, \n",
    "                                               projects_to_ignore=get_proj_donated(donor_id, \n",
    "                                                                                    donations_train_indexed_df), \n",
    "                                               topn=10000000000)\n",
    "\n",
    "        hits_at_5_count = 0\n",
    "        hits_at_10_count = 0\n",
    "        #For each item the user has donated in test set\n",
    "        for project_id in person_donated_projects_testset:\n",
    "            #Getting a random sample (100) projects the user has not donated \n",
    "            #(to represent projects that are assumed to be not relevant to the user)\n",
    "            non_donated_projects_sample = self.get_not_donated_projects_sample(donor_id, \n",
    "                                                                          sample_size=EVAL_RANDOM_SAMPLE_NON_PROJECTS, \n",
    "                                                                          seed=project_id%(2**32))\n",
    "\n",
    "            #Combining the current donated item with the 100 random projects\n",
    "            projects_to_filter_recs = non_donated_projects_sample.union(set(['project_id']))\n",
    "\n",
    "            #Filtering only recommendations that are either the donated item or from a random sample of 100 non-donated projects\n",
    "            valid_recs_df = person_recs_df[person_recs_df['project_id'].isin(projects_to_filter_recs)]                    \n",
    "            valid_recs = valid_recs_df['project_id'].values\n",
    "            #Verifying if the current donated item is among the Top-N recommended projects\n",
    "            hit_at_5, index_at_5 = self._verify_hit_top_n(project_id, valid_recs, 5)\n",
    "            hits_at_5_count += hit_at_5\n",
    "            hit_at_10, index_at_10 = self._verify_hit_top_n(project_id, valid_recs, 10)\n",
    "            hits_at_10_count += hit_at_10\n",
    "\n",
    "        #Recall is the rate of the donated projects that are ranked among the Top-N recommended projects, \n",
    "        #when mixed with a set of non-relevant projects\n",
    "        recall_at_5 = hits_at_5_count / float(donated_projects_count_testset)\n",
    "        recall_at_10 = hits_at_10_count / float(donated_projects_count_testset)\n",
    "\n",
    "        person_metrics = {'hits@5_count':hits_at_5_count, \n",
    "                          'hits@10_count':hits_at_10_count, \n",
    "                          'donated_count': donated_projects_count_testset,\n",
    "                          'recall@5': recall_at_5,\n",
    "                          'recall@10': recall_at_10}\n",
    "        return person_metrics\n",
    "\n",
    "    def evaluate_model(self, model):\n",
    "        #print('Running evaluation for users')\n",
    "        people_metrics = []\n",
    "        for idx, donor_id in enumerate(list(donations_test_indexed_df.index.unique().values)):\n",
    "            #if idx % 100 == 0 and idx > 0:\n",
    "            #    print('%d users processed' % idx)\n",
    "            person_metrics = self.evaluate_model_for_user(model, donor_id)  \n",
    "            person_metrics['_donor_id'] = donor_id\n",
    "            people_metrics.append(person_metrics)\n",
    "        print('%d users processed' % idx)\n",
    "\n",
    "        detailed_results_df = pd.DataFrame(people_metrics) \\\n",
    "                            .sort_values('donated_count', ascending=False)\n",
    "        \n",
    "        global_recall_at_5 = detailed_results_df['hits@5_count'].sum() / float(detailed_results_df['donated_count'].sum())\n",
    "        global_recall_at_10 = detailed_results_df['hits@10_count'].sum() / float(detailed_results_df['donated_count'].sum())\n",
    "        \n",
    "        global_metrics = {'modelName': model.get_model_name(),\n",
    "                          'recall@5': global_recall_at_5,\n",
    "                          'recall@10': global_recall_at_10}    \n",
    "        return global_metrics, detailed_results_df\n",
    "    \n",
    "model_evaluator = ModelEvaluator() "
   ]
  },
  {
   "cell_type": "markdown",
   "metadata": {},
   "source": [
    "## Content-Based Filtering model\n",
    "We will use Content-Based Filtering method to find projects that are similar to the project(s) that a donor has already donated to. We can calculate the similarity between projects based on data and/or text features extracted from the text data.\n"
   ]
  },
  {
   "cell_type": "code",
   "execution_count": 68,
   "metadata": {},
   "outputs": [
    {
     "data": {
      "text/plain": [
       "<1889x12490 sparse matrix of type '<class 'numpy.float64'>'\n",
       "\twith 182757 stored elements in Compressed Sparse Row format>"
      ]
     },
     "execution_count": 68,
     "metadata": {},
     "output_type": "execute_result"
    }
   ],
   "source": [
    "# Preprocessing of text data\n",
    "textfeats = [\"Project Title\",\"Project Essay\"]\n",
    "for cols in textfeats:\n",
    "    projects[cols] = projects[cols].astype(str) \n",
    "    projects[cols] = projects[cols].astype(str).fillna('') # FILL NA\n",
    "    projects[cols] = projects[cols].str.lower() # Lowercase all text, so that capitalized words dont get treated differently\n",
    " \n",
    "text = projects[\"Project Title\"] + ' ' + projects[\"Project Essay\"]\n",
    "vectorizer = TfidfVectorizer(strip_accents='unicode',\n",
    "                             analyzer='word',\n",
    "                             lowercase=True, # Convert all uppercase to lowercase\n",
    "                             stop_words='english', # Remove commonly found english words ('it', 'a', 'the') which do not typically contain much signal\n",
    "                             max_df = 0.9, # Only consider words that appear in fewer than max_df percent of all documents\n",
    "                             # max_features=5000 # Maximum features to be extracted                    \n",
    "                            )                        \n",
    "project_ids = projects['project_id'].tolist()\n",
    "tfidf_matrix = vectorizer.fit_transform(text)\n",
    "tfidf_feature_names = vectorizer.get_feature_names()\n",
    "tfidf_matrix"
   ]
  },
  {
   "cell_type": "markdown",
   "metadata": {},
   "source": [
    "To model the user profile, we take all the item profiles the user has interacted and average them. The average is weighted by the interaction strength, in other words, the articles the user has interacted the most (eg. liked or commented) will have a higher strength in the final user profile."
   ]
  },
  {
   "cell_type": "code",
   "execution_count": 69,
   "metadata": {
    "collapsed": true
   },
   "outputs": [],
   "source": [
    "def get_project_profile(project_id):\n",
    "    idx = project_ids.index(project_id)\n",
    "    project_profile = tfidf_matrix[idx:idx+1]\n",
    "    return project_profile\n",
    "\n",
    "def get_project_profiles(ids):\n",
    "    project_profiles_list = [get_project_profile(x) for x in np.ravel([ids])]\n",
    "    project_profiles = scipy.sparse.vstack(project_profiles_list)\n",
    "    return project_profiles\n",
    "\n",
    "def build_donors_profile(donor_id, donations_indexed_df):\n",
    "    donations_donor_df = donations_indexed_df.loc[donor_id]\n",
    "    donor_project_profiles = get_project_profiles(donations_donor_df['project_id'])\n",
    "    donor_project_strengths = np.array(donations_donor_df['eventStrength']).reshape(-1,1)\n",
    "    #Weighted average of project profiles by the donations strength\n",
    "    donor_project_strengths_weighted_avg = np.sum(donor_project_profiles.multiply(donor_project_strengths), axis=0) / (np.sum(donor_project_strengths)+1)\n",
    "    donor_profile_norm = sklearn.preprocessing.normalize(donor_project_strengths_weighted_avg)\n",
    "    return donor_profile_norm\n",
    "\n",
    "\n",
    "def build_donors_profiles(): \n",
    "    donations_indexed_df = donations_full_df[donations_full_df['project_id'].isin(projects['project_id'])].set_index('donor_id')\n",
    "    donor_profiles = {}\n",
    "    for donor_id in donations_indexed_df.index.unique():\n",
    "        donor_profiles[donor_id] = build_donors_profile(donor_id, donations_indexed_df)\n",
    "    return donor_profiles"
   ]
  },
  {
   "cell_type": "code",
   "execution_count": 70,
   "metadata": {},
   "outputs": [
    {
     "name": "stdout",
     "output_type": "stream",
     "text": [
      "# of donors with profiles: 7998\n"
     ]
    }
   ],
   "source": [
    "donor_profiles = build_donors_profiles()\n",
    "print(\"# of donors with profiles: %d\" % len(donor_profiles))"
   ]
  },
  {
   "cell_type": "code",
   "execution_count": 71,
   "metadata": {
    "scrolled": true
   },
   "outputs": [
    {
     "data": {
      "text/html": [
       "<div>\n",
       "<style>\n",
       "    .dataframe thead tr:only-child th {\n",
       "        text-align: right;\n",
       "    }\n",
       "\n",
       "    .dataframe thead th {\n",
       "        text-align: left;\n",
       "    }\n",
       "\n",
       "    .dataframe tbody tr th {\n",
       "        vertical-align: top;\n",
       "    }\n",
       "</style>\n",
       "<table border=\"1\" class=\"dataframe\">\n",
       "  <thead>\n",
       "    <tr style=\"text-align: right;\">\n",
       "      <th></th>\n",
       "      <th>project_id</th>\n",
       "      <th>eventStrength</th>\n",
       "    </tr>\n",
       "    <tr>\n",
       "      <th>donor_id</th>\n",
       "      <th></th>\n",
       "      <th></th>\n",
       "    </tr>\n",
       "  </thead>\n",
       "  <tbody>\n",
       "    <tr>\n",
       "      <th>144.0</th>\n",
       "      <td>437585</td>\n",
       "      <td>5.672425</td>\n",
       "    </tr>\n",
       "    <tr>\n",
       "      <th>528.0</th>\n",
       "      <td>405327</td>\n",
       "      <td>4.700440</td>\n",
       "    </tr>\n",
       "    <tr>\n",
       "      <th>618.0</th>\n",
       "      <td>556052</td>\n",
       "      <td>4.700440</td>\n",
       "    </tr>\n",
       "    <tr>\n",
       "      <th>668.0</th>\n",
       "      <td>49138</td>\n",
       "      <td>3.087463</td>\n",
       "    </tr>\n",
       "    <tr>\n",
       "      <th>754.0</th>\n",
       "      <td>1045629</td>\n",
       "      <td>5.672425</td>\n",
       "    </tr>\n",
       "    <tr>\n",
       "      <th>847.0</th>\n",
       "      <td>131068</td>\n",
       "      <td>7.838069</td>\n",
       "    </tr>\n",
       "    <tr>\n",
       "      <th>1568.0</th>\n",
       "      <td>122883</td>\n",
       "      <td>4.075533</td>\n",
       "    </tr>\n",
       "    <tr>\n",
       "      <th>1756.0</th>\n",
       "      <td>13838</td>\n",
       "      <td>4.700440</td>\n",
       "    </tr>\n",
       "    <tr>\n",
       "      <th>1861.0</th>\n",
       "      <td>122883</td>\n",
       "      <td>5.672425</td>\n",
       "    </tr>\n",
       "    <tr>\n",
       "      <th>2672.0</th>\n",
       "      <td>36921</td>\n",
       "      <td>4.700440</td>\n",
       "    </tr>\n",
       "  </tbody>\n",
       "</table>\n",
       "</div>"
      ],
      "text/plain": [
       "          project_id  eventStrength\n",
       "donor_id                           \n",
       "144.0         437585       5.672425\n",
       "528.0         405327       4.700440\n",
       "618.0         556052       4.700440\n",
       "668.0          49138       3.087463\n",
       "754.0        1045629       5.672425\n",
       "847.0         131068       7.838069\n",
       "1568.0        122883       4.075533\n",
       "1756.0         13838       4.700440\n",
       "1861.0        122883       5.672425\n",
       "2672.0         36921       4.700440"
      ]
     },
     "execution_count": 71,
     "metadata": {},
     "output_type": "execute_result"
    }
   ],
   "source": [
    "donations_full_indexed_df.head(10)"
   ]
  },
  {
   "cell_type": "markdown",
   "metadata": {},
   "source": [
    "Get top 5 terms for 10 donors "
   ]
  },
  {
   "cell_type": "code",
   "execution_count": 72,
   "metadata": {},
   "outputs": [
    {
     "data": {
      "text/plain": [
       "array([  144.,   528.,   618.,   668.,   754.,   847.,  1568.,  1756.,\n",
       "        1861.,  2672.])"
      ]
     },
     "execution_count": 72,
     "metadata": {},
     "output_type": "execute_result"
    }
   ],
   "source": [
    "ind_donor=donations_full_indexed_df.index.values[0:10]\n",
    "ind_donor"
   ]
  },
  {
   "cell_type": "code",
   "execution_count": 73,
   "metadata": {
    "collapsed": true
   },
   "outputs": [],
   "source": [
    "donor1 = ind_donor[0]\n"
   ]
  },
  {
   "cell_type": "code",
   "execution_count": 78,
   "metadata": {},
   "outputs": [
    {
     "data": {
      "text/html": [
       "<div>\n",
       "<style>\n",
       "    .dataframe thead tr:only-child th {\n",
       "        text-align: right;\n",
       "    }\n",
       "\n",
       "    .dataframe thead th {\n",
       "        text-align: left;\n",
       "    }\n",
       "\n",
       "    .dataframe tbody tr th {\n",
       "        vertical-align: top;\n",
       "    }\n",
       "</style>\n",
       "<table border=\"1\" class=\"dataframe\">\n",
       "  <thead>\n",
       "    <tr style=\"text-align: right;\">\n",
       "      <th></th>\n",
       "      <th>token1</th>\n",
       "      <th>relevance1</th>\n",
       "    </tr>\n",
       "  </thead>\n",
       "  <tbody>\n",
       "    <tr>\n",
       "      <th>0</th>\n",
       "      <td>sets</td>\n",
       "      <td>0.313237</td>\n",
       "    </tr>\n",
       "    <tr>\n",
       "      <th>1</th>\n",
       "      <td>reading</td>\n",
       "      <td>0.286720</td>\n",
       "    </tr>\n",
       "    <tr>\n",
       "      <th>2</th>\n",
       "      <td>zoom</td>\n",
       "      <td>0.283351</td>\n",
       "    </tr>\n",
       "    <tr>\n",
       "      <th>3</th>\n",
       "      <td>levels</td>\n",
       "      <td>0.232165</td>\n",
       "    </tr>\n",
       "    <tr>\n",
       "      <th>4</th>\n",
       "      <td>books</td>\n",
       "      <td>0.213696</td>\n",
       "    </tr>\n",
       "  </tbody>\n",
       "</table>\n",
       "</div>"
      ],
      "text/plain": [
       "    token1  relevance1\n",
       "0     sets    0.313237\n",
       "1  reading    0.286720\n",
       "2     zoom    0.283351\n",
       "3   levels    0.232165\n",
       "4    books    0.213696"
      ]
     },
     "execution_count": 78,
     "metadata": {},
     "output_type": "execute_result"
    }
   ],
   "source": [
    "donor1_profile = pd.DataFrame(sorted(zip(tfidf_feature_names, \n",
    "                        donor_profiles[donor1].flatten().tolist()), \n",
    "                        key=lambda x: -x[1])[:5],\n",
    "                        columns=['token1', 'relevance1'])\n",
    "\n",
    "donor1_profile"
   ]
  },
  {
   "cell_type": "markdown",
   "metadata": {},
   "source": [
    "Examine the results"
   ]
  },
  {
   "cell_type": "markdown",
   "metadata": {
    "collapsed": true
   },
   "source": [
    "## Content-Based Recommender"
   ]
  },
  {
   "cell_type": "code",
   "execution_count": 76,
   "metadata": {
    "collapsed": true
   },
   "outputs": [],
   "source": [
    "class ContentBasedRecommender:\n",
    "    \n",
    "    MODEL_NAME = 'Content-Based'\n",
    "    \n",
    "    def __init__(self, projects=None):\n",
    "        self.project_ids = project_ids\n",
    "        self.projects = projects\n",
    "        \n",
    "    def get_model_name(self):\n",
    "        return self.MODEL_NAME\n",
    "        \n",
    "    def _get_similar_projects_to_donor_profile(self, donor_id, topn=1000):\n",
    "        #Computes the cosine similarity between the donor profile and all project profiles\n",
    "        cosine_similarities = cosine_similarity(donor_profiles[donor_id], tfidf_matrix)\n",
    "        #Gets the top similar projects\n",
    "        similar_indices = cosine_similarities.argsort().flatten()[-topn:]\n",
    "        #Sort the similar projects by similarity\n",
    "        similar_projects = sorted([(project_ids[i], cosine_similarities[0,i]) for i in similar_indices], key=lambda x: -x[1])\n",
    "        return similar_projects\n",
    "        \n",
    "    def recommend_projects(self, donor_id, projects_to_ignore=[], topn=10, verbose=False):\n",
    "        similar_projects = self._get_similar_projects_to_donor_profile(donor_id)\n",
    "        #Ignores projects the donor has already donated\n",
    "        similar_projects_filtered = list(filter(lambda x: x[0] not in projects_to_ignore, similar_projects))\n",
    "        \n",
    "        recommendations_df = pd.DataFrame(similar_projects_filtered, columns=['project_id', 'recStrength']).head(topn)\n",
    "\n",
    "        recommendations_df = recommendations_df.merge(self.projects, how = 'left', \n",
    "                                                    left_on = 'project_id', \n",
    "                                                    right_on = 'project_id')[['recStrength', 'project_id', 'Project Title', 'Project Essay']]\n",
    "\n",
    "\n",
    "        return recommendations_df"
   ]
  },
  {
   "cell_type": "code",
   "execution_count": 77,
   "metadata": {},
   "outputs": [
    {
     "data": {
      "text/html": [
       "<div>\n",
       "<style>\n",
       "    .dataframe thead tr:only-child th {\n",
       "        text-align: right;\n",
       "    }\n",
       "\n",
       "    .dataframe thead th {\n",
       "        text-align: left;\n",
       "    }\n",
       "\n",
       "    .dataframe tbody tr th {\n",
       "        vertical-align: top;\n",
       "    }\n",
       "</style>\n",
       "<table border=\"1\" class=\"dataframe\">\n",
       "  <thead>\n",
       "    <tr style=\"text-align: right;\">\n",
       "      <th></th>\n",
       "      <th>recStrength</th>\n",
       "      <th>project_id</th>\n",
       "      <th>Project Title</th>\n",
       "      <th>Project Essay</th>\n",
       "    </tr>\n",
       "  </thead>\n",
       "  <tbody>\n",
       "    <tr>\n",
       "      <th>0</th>\n",
       "      <td>1.000000</td>\n",
       "      <td>437585</td>\n",
       "      <td>help us zoom up through the reading levels!</td>\n",
       "      <td>i am working hard to advance my first graders'...</td>\n",
       "    </tr>\n",
       "    <tr>\n",
       "      <th>1</th>\n",
       "      <td>0.336841</td>\n",
       "      <td>278524</td>\n",
       "      <td>we want to read!</td>\n",
       "      <td>my 7th and 8th grade students come from povert...</td>\n",
       "    </tr>\n",
       "    <tr>\n",
       "      <th>2</th>\n",
       "      <td>0.329714</td>\n",
       "      <td>943492</td>\n",
       "      <td>reading about us</td>\n",
       "      <td>i have 27 third grade students who are ready t...</td>\n",
       "    </tr>\n",
       "    <tr>\n",
       "      <th>3</th>\n",
       "      <td>0.311516</td>\n",
       "      <td>549132</td>\n",
       "      <td>learning to read is fun with leveled books!</td>\n",
       "      <td>our school is part of a very diverse district ...</td>\n",
       "    </tr>\n",
       "    <tr>\n",
       "      <th>4</th>\n",
       "      <td>0.309028</td>\n",
       "      <td>444061</td>\n",
       "      <td>creating life-long readers</td>\n",
       "      <td>in our classroom, we thrive to be the best we ...</td>\n",
       "    </tr>\n",
       "    <tr>\n",
       "      <th>5</th>\n",
       "      <td>0.307533</td>\n",
       "      <td>76716</td>\n",
       "      <td>leveled books to help us read!</td>\n",
       "      <td>have you ever been told you need to read, but ...</td>\n",
       "    </tr>\n",
       "    <tr>\n",
       "      <th>6</th>\n",
       "      <td>0.305458</td>\n",
       "      <td>757562</td>\n",
       "      <td>we are in need of books</td>\n",
       "      <td>my students are amazing students for many reas...</td>\n",
       "    </tr>\n",
       "    <tr>\n",
       "      <th>7</th>\n",
       "      <td>0.304062</td>\n",
       "      <td>658457</td>\n",
       "      <td>help readers grow by growing their library!</td>\n",
       "      <td>i am a veteran teacher. i have taught in nyc p...</td>\n",
       "    </tr>\n",
       "    <tr>\n",
       "      <th>8</th>\n",
       "      <td>0.302696</td>\n",
       "      <td>489442</td>\n",
       "      <td>love for literacy</td>\n",
       "      <td>as dr. seuss best said, \"the more that you rea...</td>\n",
       "    </tr>\n",
       "    <tr>\n",
       "      <th>9</th>\n",
       "      <td>0.296526</td>\n",
       "      <td>291256</td>\n",
       "      <td>guided reading leveled library needed for vora...</td>\n",
       "      <td>students love shopping for books, but finding ...</td>\n",
       "    </tr>\n",
       "  </tbody>\n",
       "</table>\n",
       "</div>"
      ],
      "text/plain": [
       "   recStrength  project_id                                      Project Title  \\\n",
       "0     1.000000      437585        help us zoom up through the reading levels!   \n",
       "1     0.336841      278524                                   we want to read!   \n",
       "2     0.329714      943492                                   reading about us   \n",
       "3     0.311516      549132        learning to read is fun with leveled books!   \n",
       "4     0.309028      444061                         creating life-long readers   \n",
       "5     0.307533       76716                     leveled books to help us read!   \n",
       "6     0.305458      757562                            we are in need of books   \n",
       "7     0.304062      658457       help readers grow by growing their library!    \n",
       "8     0.302696      489442                                  love for literacy   \n",
       "9     0.296526      291256  guided reading leveled library needed for vora...   \n",
       "\n",
       "                                       Project Essay  \n",
       "0  i am working hard to advance my first graders'...  \n",
       "1  my 7th and 8th grade students come from povert...  \n",
       "2  i have 27 third grade students who are ready t...  \n",
       "3  our school is part of a very diverse district ...  \n",
       "4  in our classroom, we thrive to be the best we ...  \n",
       "5  have you ever been told you need to read, but ...  \n",
       "6  my students are amazing students for many reas...  \n",
       "7  i am a veteran teacher. i have taught in nyc p...  \n",
       "8  as dr. seuss best said, \"the more that you rea...  \n",
       "9  students love shopping for books, but finding ...  "
      ]
     },
     "execution_count": 77,
     "metadata": {},
     "output_type": "execute_result"
    }
   ],
   "source": [
    "content_based_recommender_model = ContentBasedRecommender(projects)\n",
    "content_based_recommender_model.recommend_projects(donor1)"
   ]
  },
  {
   "cell_type": "code",
   "execution_count": 79,
   "metadata": {},
   "outputs": [
    {
     "name": "stdout",
     "output_type": "stream",
     "text": [
      "Evaluating Content-Based Filtering model...\n"
     ]
    },
    {
     "ename": "KeyError",
     "evalue": "'the label [1577993.0] is not in the [index]'",
     "output_type": "error",
     "traceback": [
      "\u001b[0;31m---------------------------------------------------------------------------\u001b[0m",
      "\u001b[0;31mKeyError\u001b[0m                                  Traceback (most recent call last)",
      "\u001b[0;32m~/anaconda3/lib/python3.6/site-packages/pandas/core/indexing.py\u001b[0m in \u001b[0;36m_has_valid_type\u001b[0;34m(self, key, axis)\u001b[0m\n\u001b[1;32m   1433\u001b[0m                 \u001b[0;32mif\u001b[0m \u001b[0;32mnot\u001b[0m \u001b[0max\u001b[0m\u001b[0;34m.\u001b[0m\u001b[0mcontains\u001b[0m\u001b[0;34m(\u001b[0m\u001b[0mkey\u001b[0m\u001b[0;34m)\u001b[0m\u001b[0;34m:\u001b[0m\u001b[0;34m\u001b[0m\u001b[0m\n\u001b[0;32m-> 1434\u001b[0;31m                     \u001b[0merror\u001b[0m\u001b[0;34m(\u001b[0m\u001b[0;34m)\u001b[0m\u001b[0;34m\u001b[0m\u001b[0m\n\u001b[0m\u001b[1;32m   1435\u001b[0m             \u001b[0;32mexcept\u001b[0m \u001b[0mTypeError\u001b[0m \u001b[0;32mas\u001b[0m \u001b[0me\u001b[0m\u001b[0;34m:\u001b[0m\u001b[0;34m\u001b[0m\u001b[0m\n",
      "\u001b[0;32m~/anaconda3/lib/python3.6/site-packages/pandas/core/indexing.py\u001b[0m in \u001b[0;36merror\u001b[0;34m()\u001b[0m\n\u001b[1;32m   1428\u001b[0m                 raise KeyError(\"the label [%s] is not in the [%s]\" %\n\u001b[0;32m-> 1429\u001b[0;31m                                (key, self.obj._get_axis_name(axis)))\n\u001b[0m\u001b[1;32m   1430\u001b[0m \u001b[0;34m\u001b[0m\u001b[0m\n",
      "\u001b[0;31mKeyError\u001b[0m: 'the label [1577993.0] is not in the [index]'",
      "\nDuring handling of the above exception, another exception occurred:\n",
      "\u001b[0;31mKeyError\u001b[0m                                  Traceback (most recent call last)",
      "\u001b[0;32m<ipython-input-79-40f51e0c6e51>\u001b[0m in \u001b[0;36m<module>\u001b[0;34m()\u001b[0m\n\u001b[1;32m      1\u001b[0m \u001b[0mprint\u001b[0m\u001b[0;34m(\u001b[0m\u001b[0;34m'Evaluating Content-Based Filtering model...'\u001b[0m\u001b[0;34m)\u001b[0m\u001b[0;34m\u001b[0m\u001b[0m\n\u001b[0;32m----> 2\u001b[0;31m \u001b[0mcb_global_metrics\u001b[0m\u001b[0;34m,\u001b[0m \u001b[0mcb_detailed_results_df\u001b[0m \u001b[0;34m=\u001b[0m \u001b[0mmodel_evaluator\u001b[0m\u001b[0;34m.\u001b[0m\u001b[0mevaluate_model\u001b[0m\u001b[0;34m(\u001b[0m\u001b[0mcontent_based_recommender_model\u001b[0m\u001b[0;34m)\u001b[0m\u001b[0;34m\u001b[0m\u001b[0m\n\u001b[0m\u001b[1;32m      3\u001b[0m \u001b[0mprint\u001b[0m\u001b[0;34m(\u001b[0m\u001b[0;34m'\\nGlobal metrics:\\n%s'\u001b[0m \u001b[0;34m%\u001b[0m \u001b[0mcb_global_metrics\u001b[0m\u001b[0;34m)\u001b[0m\u001b[0;34m\u001b[0m\u001b[0m\n\u001b[1;32m      4\u001b[0m \u001b[0mcb_detailed_results_df\u001b[0m\u001b[0;34m.\u001b[0m\u001b[0mhead\u001b[0m\u001b[0;34m(\u001b[0m\u001b[0;36m10\u001b[0m\u001b[0;34m)\u001b[0m\u001b[0;34m\u001b[0m\u001b[0m\n",
      "\u001b[0;32m<ipython-input-67-54aafec0e3bb>\u001b[0m in \u001b[0;36mevaluate_model\u001b[0;34m(self, model)\u001b[0m\n\u001b[1;32m     77\u001b[0m             \u001b[0;31m#if idx % 100 == 0 and idx > 0:\u001b[0m\u001b[0;34m\u001b[0m\u001b[0;34m\u001b[0m\u001b[0m\n\u001b[1;32m     78\u001b[0m             \u001b[0;31m#    print('%d users processed' % idx)\u001b[0m\u001b[0;34m\u001b[0m\u001b[0;34m\u001b[0m\u001b[0m\n\u001b[0;32m---> 79\u001b[0;31m             \u001b[0mperson_metrics\u001b[0m \u001b[0;34m=\u001b[0m \u001b[0mself\u001b[0m\u001b[0;34m.\u001b[0m\u001b[0mevaluate_model_for_user\u001b[0m\u001b[0;34m(\u001b[0m\u001b[0mmodel\u001b[0m\u001b[0;34m,\u001b[0m \u001b[0mdonor_id\u001b[0m\u001b[0;34m)\u001b[0m\u001b[0;34m\u001b[0m\u001b[0m\n\u001b[0m\u001b[1;32m     80\u001b[0m             \u001b[0mperson_metrics\u001b[0m\u001b[0;34m[\u001b[0m\u001b[0;34m'_donor_id'\u001b[0m\u001b[0;34m]\u001b[0m \u001b[0;34m=\u001b[0m \u001b[0mdonor_id\u001b[0m\u001b[0;34m\u001b[0m\u001b[0m\n\u001b[1;32m     81\u001b[0m             \u001b[0mpeople_metrics\u001b[0m\u001b[0;34m.\u001b[0m\u001b[0mappend\u001b[0m\u001b[0;34m(\u001b[0m\u001b[0mperson_metrics\u001b[0m\u001b[0;34m)\u001b[0m\u001b[0;34m\u001b[0m\u001b[0m\n",
      "\u001b[0;32m<ipython-input-67-54aafec0e3bb>\u001b[0m in \u001b[0;36mevaluate_model_for_user\u001b[0;34m(self, model, donor_id)\u001b[0m\n\u001b[1;32m     34\u001b[0m         person_recs_df = model.recommend_projects(donor_id, \n\u001b[1;32m     35\u001b[0m                                                projects_to_ignore=get_proj_donated(donor_id, \n\u001b[0;32m---> 36\u001b[0;31m                                                                                     donations_train_indexed_df), \n\u001b[0m\u001b[1;32m     37\u001b[0m                                                topn=10000000000)\n\u001b[1;32m     38\u001b[0m \u001b[0;34m\u001b[0m\u001b[0m\n",
      "\u001b[0;32m<ipython-input-65-77c2a4fba718>\u001b[0m in \u001b[0;36mget_proj_donated\u001b[0;34m(donor_id, donations_df)\u001b[0m\n\u001b[1;32m      2\u001b[0m \u001b[0;32mdef\u001b[0m \u001b[0mget_proj_donated\u001b[0m\u001b[0;34m(\u001b[0m\u001b[0mdonor_id\u001b[0m\u001b[0;34m,\u001b[0m \u001b[0mdonations_df\u001b[0m\u001b[0;34m)\u001b[0m\u001b[0;34m:\u001b[0m\u001b[0;34m\u001b[0m\u001b[0m\n\u001b[1;32m      3\u001b[0m     \u001b[0;31m# Get the user's data and merge in project info\u001b[0m\u001b[0;34m\u001b[0m\u001b[0;34m\u001b[0m\u001b[0m\n\u001b[0;32m----> 4\u001b[0;31m     \u001b[0mdonated_projects\u001b[0m \u001b[0;34m=\u001b[0m \u001b[0mdonations_df\u001b[0m\u001b[0;34m.\u001b[0m\u001b[0mloc\u001b[0m\u001b[0;34m[\u001b[0m\u001b[0mdonor_id\u001b[0m\u001b[0;34m]\u001b[0m\u001b[0;34m[\u001b[0m\u001b[0;34m'project_id'\u001b[0m\u001b[0;34m]\u001b[0m\u001b[0;34m\u001b[0m\u001b[0m\n\u001b[0m\u001b[1;32m      5\u001b[0m     \u001b[0;32mreturn\u001b[0m \u001b[0mset\u001b[0m\u001b[0;34m(\u001b[0m\u001b[0mdonated_projects\u001b[0m \u001b[0;32mif\u001b[0m \u001b[0mtype\u001b[0m\u001b[0;34m(\u001b[0m\u001b[0mdonated_projects\u001b[0m\u001b[0;34m)\u001b[0m \u001b[0;34m==\u001b[0m \u001b[0mpd\u001b[0m\u001b[0;34m.\u001b[0m\u001b[0mSeries\u001b[0m \u001b[0;32melse\u001b[0m \u001b[0;34m[\u001b[0m\u001b[0mdonated_projects\u001b[0m\u001b[0;34m]\u001b[0m\u001b[0;34m)\u001b[0m\u001b[0;34m\u001b[0m\u001b[0m\n",
      "\u001b[0;32m~/anaconda3/lib/python3.6/site-packages/pandas/core/indexing.py\u001b[0m in \u001b[0;36m__getitem__\u001b[0;34m(self, key)\u001b[0m\n\u001b[1;32m   1326\u001b[0m         \u001b[0;32melse\u001b[0m\u001b[0;34m:\u001b[0m\u001b[0;34m\u001b[0m\u001b[0m\n\u001b[1;32m   1327\u001b[0m             \u001b[0mkey\u001b[0m \u001b[0;34m=\u001b[0m \u001b[0mcom\u001b[0m\u001b[0;34m.\u001b[0m\u001b[0m_apply_if_callable\u001b[0m\u001b[0;34m(\u001b[0m\u001b[0mkey\u001b[0m\u001b[0;34m,\u001b[0m \u001b[0mself\u001b[0m\u001b[0;34m.\u001b[0m\u001b[0mobj\u001b[0m\u001b[0;34m)\u001b[0m\u001b[0;34m\u001b[0m\u001b[0m\n\u001b[0;32m-> 1328\u001b[0;31m             \u001b[0;32mreturn\u001b[0m \u001b[0mself\u001b[0m\u001b[0;34m.\u001b[0m\u001b[0m_getitem_axis\u001b[0m\u001b[0;34m(\u001b[0m\u001b[0mkey\u001b[0m\u001b[0;34m,\u001b[0m \u001b[0maxis\u001b[0m\u001b[0;34m=\u001b[0m\u001b[0;36m0\u001b[0m\u001b[0;34m)\u001b[0m\u001b[0;34m\u001b[0m\u001b[0m\n\u001b[0m\u001b[1;32m   1329\u001b[0m \u001b[0;34m\u001b[0m\u001b[0m\n\u001b[1;32m   1330\u001b[0m     \u001b[0;32mdef\u001b[0m \u001b[0m_is_scalar_access\u001b[0m\u001b[0;34m(\u001b[0m\u001b[0mself\u001b[0m\u001b[0;34m,\u001b[0m \u001b[0mkey\u001b[0m\u001b[0;34m)\u001b[0m\u001b[0;34m:\u001b[0m\u001b[0;34m\u001b[0m\u001b[0m\n",
      "\u001b[0;32m~/anaconda3/lib/python3.6/site-packages/pandas/core/indexing.py\u001b[0m in \u001b[0;36m_getitem_axis\u001b[0;34m(self, key, axis)\u001b[0m\n\u001b[1;32m   1549\u001b[0m \u001b[0;34m\u001b[0m\u001b[0m\n\u001b[1;32m   1550\u001b[0m         \u001b[0;31m# fall thru to straight lookup\u001b[0m\u001b[0;34m\u001b[0m\u001b[0;34m\u001b[0m\u001b[0m\n\u001b[0;32m-> 1551\u001b[0;31m         \u001b[0mself\u001b[0m\u001b[0;34m.\u001b[0m\u001b[0m_has_valid_type\u001b[0m\u001b[0;34m(\u001b[0m\u001b[0mkey\u001b[0m\u001b[0;34m,\u001b[0m \u001b[0maxis\u001b[0m\u001b[0;34m)\u001b[0m\u001b[0;34m\u001b[0m\u001b[0m\n\u001b[0m\u001b[1;32m   1552\u001b[0m         \u001b[0;32mreturn\u001b[0m \u001b[0mself\u001b[0m\u001b[0;34m.\u001b[0m\u001b[0m_get_label\u001b[0m\u001b[0;34m(\u001b[0m\u001b[0mkey\u001b[0m\u001b[0;34m,\u001b[0m \u001b[0maxis\u001b[0m\u001b[0;34m=\u001b[0m\u001b[0maxis\u001b[0m\u001b[0;34m)\u001b[0m\u001b[0;34m\u001b[0m\u001b[0m\n\u001b[1;32m   1553\u001b[0m \u001b[0;34m\u001b[0m\u001b[0m\n",
      "\u001b[0;32m~/anaconda3/lib/python3.6/site-packages/pandas/core/indexing.py\u001b[0m in \u001b[0;36m_has_valid_type\u001b[0;34m(self, key, axis)\u001b[0m\n\u001b[1;32m   1440\u001b[0m                 \u001b[0;32mraise\u001b[0m\u001b[0;34m\u001b[0m\u001b[0m\n\u001b[1;32m   1441\u001b[0m             \u001b[0;32mexcept\u001b[0m\u001b[0;34m:\u001b[0m\u001b[0;34m\u001b[0m\u001b[0m\n\u001b[0;32m-> 1442\u001b[0;31m                 \u001b[0merror\u001b[0m\u001b[0;34m(\u001b[0m\u001b[0;34m)\u001b[0m\u001b[0;34m\u001b[0m\u001b[0m\n\u001b[0m\u001b[1;32m   1443\u001b[0m \u001b[0;34m\u001b[0m\u001b[0m\n\u001b[1;32m   1444\u001b[0m         \u001b[0;32mreturn\u001b[0m \u001b[0;32mTrue\u001b[0m\u001b[0;34m\u001b[0m\u001b[0m\n",
      "\u001b[0;32m~/anaconda3/lib/python3.6/site-packages/pandas/core/indexing.py\u001b[0m in \u001b[0;36merror\u001b[0;34m()\u001b[0m\n\u001b[1;32m   1427\u001b[0m                                     \"key\")\n\u001b[1;32m   1428\u001b[0m                 raise KeyError(\"the label [%s] is not in the [%s]\" %\n\u001b[0;32m-> 1429\u001b[0;31m                                (key, self.obj._get_axis_name(axis)))\n\u001b[0m\u001b[1;32m   1430\u001b[0m \u001b[0;34m\u001b[0m\u001b[0m\n\u001b[1;32m   1431\u001b[0m             \u001b[0;32mtry\u001b[0m\u001b[0;34m:\u001b[0m\u001b[0;34m\u001b[0m\u001b[0m\n",
      "\u001b[0;31mKeyError\u001b[0m: 'the label [1577993.0] is not in the [index]'"
     ]
    }
   ],
   "source": [
    "print('Evaluating Content-Based Filtering model...')\n",
    "cb_global_metrics, cb_detailed_results_df = model_evaluator.evaluate_model(content_based_recommender_model)\n",
    "print('\\nGlobal metrics:\\n%s' % cb_global_metrics)\n",
    "cb_detailed_results_df.head(10)"
   ]
  },
  {
   "cell_type": "markdown",
   "metadata": {},
   "source": [
    "# Collaborative Filtering model\n"
   ]
  },
  {
   "cell_type": "markdown",
   "metadata": {},
   "source": [
    "## Create the donor-project matrix"
   ]
  },
  {
   "cell_type": "markdown",
   "metadata": {},
   "source": [
    "Matrix Factorization"
   ]
  },
  {
   "cell_type": "code",
   "execution_count": 80,
   "metadata": {},
   "outputs": [
    {
     "data": {
      "text/html": [
       "<div>\n",
       "<style>\n",
       "    .dataframe thead tr:only-child th {\n",
       "        text-align: right;\n",
       "    }\n",
       "\n",
       "    .dataframe thead th {\n",
       "        text-align: left;\n",
       "    }\n",
       "\n",
       "    .dataframe tbody tr th {\n",
       "        vertical-align: top;\n",
       "    }\n",
       "</style>\n",
       "<table border=\"1\" class=\"dataframe\">\n",
       "  <thead>\n",
       "    <tr style=\"text-align: right;\">\n",
       "      <th>project_id</th>\n",
       "      <th>24</th>\n",
       "      <th>385</th>\n",
       "      <th>637</th>\n",
       "      <th>914</th>\n",
       "      <th>1200</th>\n",
       "      <th>1210</th>\n",
       "      <th>1434</th>\n",
       "      <th>1461</th>\n",
       "      <th>2461</th>\n",
       "      <th>2672</th>\n",
       "      <th>...</th>\n",
       "      <th>1200143</th>\n",
       "      <th>1200707</th>\n",
       "      <th>1202271</th>\n",
       "      <th>1203476</th>\n",
       "      <th>1204080</th>\n",
       "      <th>1204888</th>\n",
       "      <th>1205055</th>\n",
       "      <th>1206615</th>\n",
       "      <th>1206623</th>\n",
       "      <th>1206866</th>\n",
       "    </tr>\n",
       "    <tr>\n",
       "      <th>donor_id</th>\n",
       "      <th></th>\n",
       "      <th></th>\n",
       "      <th></th>\n",
       "      <th></th>\n",
       "      <th></th>\n",
       "      <th></th>\n",
       "      <th></th>\n",
       "      <th></th>\n",
       "      <th></th>\n",
       "      <th></th>\n",
       "      <th></th>\n",
       "      <th></th>\n",
       "      <th></th>\n",
       "      <th></th>\n",
       "      <th></th>\n",
       "      <th></th>\n",
       "      <th></th>\n",
       "      <th></th>\n",
       "      <th></th>\n",
       "      <th></th>\n",
       "      <th></th>\n",
       "    </tr>\n",
       "  </thead>\n",
       "  <tbody>\n",
       "    <tr>\n",
       "      <th>144.0</th>\n",
       "      <td>0.0</td>\n",
       "      <td>0.0</td>\n",
       "      <td>0.0</td>\n",
       "      <td>0.0</td>\n",
       "      <td>0.0</td>\n",
       "      <td>0.0</td>\n",
       "      <td>0.0</td>\n",
       "      <td>0.0</td>\n",
       "      <td>0.0</td>\n",
       "      <td>0.0</td>\n",
       "      <td>...</td>\n",
       "      <td>0.0</td>\n",
       "      <td>0.0</td>\n",
       "      <td>0.0</td>\n",
       "      <td>0.0</td>\n",
       "      <td>0.0</td>\n",
       "      <td>0.0</td>\n",
       "      <td>0.0</td>\n",
       "      <td>0.0</td>\n",
       "      <td>0.0</td>\n",
       "      <td>0.0</td>\n",
       "    </tr>\n",
       "    <tr>\n",
       "      <th>528.0</th>\n",
       "      <td>0.0</td>\n",
       "      <td>0.0</td>\n",
       "      <td>0.0</td>\n",
       "      <td>0.0</td>\n",
       "      <td>0.0</td>\n",
       "      <td>0.0</td>\n",
       "      <td>0.0</td>\n",
       "      <td>0.0</td>\n",
       "      <td>0.0</td>\n",
       "      <td>0.0</td>\n",
       "      <td>...</td>\n",
       "      <td>0.0</td>\n",
       "      <td>0.0</td>\n",
       "      <td>0.0</td>\n",
       "      <td>0.0</td>\n",
       "      <td>0.0</td>\n",
       "      <td>0.0</td>\n",
       "      <td>0.0</td>\n",
       "      <td>0.0</td>\n",
       "      <td>0.0</td>\n",
       "      <td>0.0</td>\n",
       "    </tr>\n",
       "    <tr>\n",
       "      <th>618.0</th>\n",
       "      <td>0.0</td>\n",
       "      <td>0.0</td>\n",
       "      <td>0.0</td>\n",
       "      <td>0.0</td>\n",
       "      <td>0.0</td>\n",
       "      <td>0.0</td>\n",
       "      <td>0.0</td>\n",
       "      <td>0.0</td>\n",
       "      <td>0.0</td>\n",
       "      <td>0.0</td>\n",
       "      <td>...</td>\n",
       "      <td>0.0</td>\n",
       "      <td>0.0</td>\n",
       "      <td>0.0</td>\n",
       "      <td>0.0</td>\n",
       "      <td>0.0</td>\n",
       "      <td>0.0</td>\n",
       "      <td>0.0</td>\n",
       "      <td>0.0</td>\n",
       "      <td>0.0</td>\n",
       "      <td>0.0</td>\n",
       "    </tr>\n",
       "  </tbody>\n",
       "</table>\n",
       "<p>3 rows × 1761 columns</p>\n",
       "</div>"
      ],
      "text/plain": [
       "project_id  24       385      637      914      1200     1210     1434     \\\n",
       "donor_id                                                                    \n",
       "144.0           0.0      0.0      0.0      0.0      0.0      0.0      0.0   \n",
       "528.0           0.0      0.0      0.0      0.0      0.0      0.0      0.0   \n",
       "618.0           0.0      0.0      0.0      0.0      0.0      0.0      0.0   \n",
       "\n",
       "project_id  1461     2461     2672      ...     1200143  1200707  1202271  \\\n",
       "donor_id                                ...                                 \n",
       "144.0           0.0      0.0      0.0   ...         0.0      0.0      0.0   \n",
       "528.0           0.0      0.0      0.0   ...         0.0      0.0      0.0   \n",
       "618.0           0.0      0.0      0.0   ...         0.0      0.0      0.0   \n",
       "\n",
       "project_id  1203476  1204080  1204888  1205055  1206615  1206623  1206866  \n",
       "donor_id                                                                   \n",
       "144.0           0.0      0.0      0.0      0.0      0.0      0.0      0.0  \n",
       "528.0           0.0      0.0      0.0      0.0      0.0      0.0      0.0  \n",
       "618.0           0.0      0.0      0.0      0.0      0.0      0.0      0.0  \n",
       "\n",
       "[3 rows x 1761 columns]"
      ]
     },
     "execution_count": 80,
     "metadata": {},
     "output_type": "execute_result"
    }
   ],
   "source": [
    "#Creating a sparse pivot table with donors in rows and projects in columns\n",
    "donors_projects_pivot_matrix_df = donations_train_df.pivot(index='donor_id', \n",
    "                                                          columns='project_id', \n",
    "                                                          values='eventStrength').fillna(0)\n",
    "\n",
    "donors_projects_pivot_matrix_df.head(3)"
   ]
  },
  {
   "cell_type": "code",
   "execution_count": 81,
   "metadata": {},
   "outputs": [
    {
     "data": {
      "text/plain": [
       "array([[ 0.,  0.,  0., ...,  0.,  0.,  0.],\n",
       "       [ 0.,  0.,  0., ...,  0.,  0.,  0.],\n",
       "       [ 0.,  0.,  0., ...,  0.,  0.,  0.]])"
      ]
     },
     "execution_count": 81,
     "metadata": {},
     "output_type": "execute_result"
    }
   ],
   "source": [
    "# Transform the donor-project dataframe into a matrix\n",
    "donors_projects_pivot_matrix = donors_projects_pivot_matrix_df.as_matrix()\n",
    "donors_projects_pivot_matrix[:3]"
   ]
  },
  {
   "cell_type": "code",
   "execution_count": 82,
   "metadata": {},
   "outputs": [
    {
     "data": {
      "text/plain": [
       "[144.0, 528.0, 618.0, 668.0, 754.0, 847.0, 1568.0, 1756.0, 2672.0, 2781.0]"
      ]
     },
     "execution_count": 82,
     "metadata": {},
     "output_type": "execute_result"
    }
   ],
   "source": [
    "# Get donor_ids\n",
    "donors_ids = list(donors_projects_pivot_matrix_df.index)\n",
    "donors_ids[:10]"
   ]
  },
  {
   "cell_type": "code",
   "execution_count": 83,
   "metadata": {},
   "outputs": [
    {
     "data": {
      "text/plain": [
       "array([[ 0.,  0.,  0., ...,  0.,  0.,  0.],\n",
       "       [ 0.,  0.,  0., ...,  0.,  0.,  0.],\n",
       "       [ 0.,  0.,  0., ...,  0.,  0.,  0.],\n",
       "       [ 0.,  0.,  0., ...,  0.,  0.,  0.],\n",
       "       [ 0.,  0.,  0., ...,  0.,  0.,  0.]])"
      ]
     },
     "execution_count": 83,
     "metadata": {},
     "output_type": "execute_result"
    }
   ],
   "source": [
    "# Print the first 5 rows of the donor-project matrix\n",
    "donors_projects_pivot_matrix[:5]"
   ]
  },
  {
   "cell_type": "markdown",
   "metadata": {},
   "source": [
    "Now we will use SVD to get latent factors. After the factorization, we will try to reconstruct the original matrix by multiplying its factors. The resulting matrix is not sparse any more. It is the generated predictions for projects the donor have not yet donated to, which we will exploit for recommendations."
   ]
  },
  {
   "cell_type": "code",
   "execution_count": 84,
   "metadata": {
    "collapsed": true
   },
   "outputs": [],
   "source": [
    "#The number of factors to factor the user-item matrix.\n",
    "NUMBER_OF_FACTORS_MF = 15\n",
    "#Performs matrix factorization of the original user item matrix\n",
    "U, sigma, Vt = svds(donors_projects_pivot_matrix, k = NUMBER_OF_FACTORS_MF)"
   ]
  },
  {
   "cell_type": "code",
   "execution_count": 85,
   "metadata": {},
   "outputs": [
    {
     "data": {
      "text/plain": [
       "(6466, 15)"
      ]
     },
     "execution_count": 85,
     "metadata": {},
     "output_type": "execute_result"
    }
   ],
   "source": [
    "U.shape"
   ]
  },
  {
   "cell_type": "code",
   "execution_count": 86,
   "metadata": {},
   "outputs": [
    {
     "data": {
      "text/plain": [
       "(15, 1761)"
      ]
     },
     "execution_count": 86,
     "metadata": {},
     "output_type": "execute_result"
    }
   ],
   "source": [
    "Vt.shape"
   ]
  },
  {
   "cell_type": "code",
   "execution_count": 87,
   "metadata": {},
   "outputs": [
    {
     "data": {
      "text/plain": [
       "(15, 15)"
      ]
     },
     "execution_count": 87,
     "metadata": {},
     "output_type": "execute_result"
    }
   ],
   "source": [
    "sigma = np.diag(sigma)\n",
    "sigma.shape"
   ]
  },
  {
   "cell_type": "code",
   "execution_count": 88,
   "metadata": {},
   "outputs": [
    {
     "data": {
      "text/plain": [
       "array([[  4.52748253e-32,  -1.57704158e-37,  -1.02307235e-34, ...,\n",
       "          4.91903406e-33,  -1.52321944e-33,  -6.47873295e-33],\n",
       "       [  5.92150205e-33,  -6.14397860e-36,  -8.19244651e-33, ...,\n",
       "          1.39192660e-33,   2.34648107e-34,  -1.85911054e-33],\n",
       "       [ -6.47743686e-34,  -5.23997372e-37,  -4.38413923e-34, ...,\n",
       "         -1.52563675e-34,   3.84387664e-34,   1.56757169e-34],\n",
       "       ..., \n",
       "       [  1.95330627e-32,   1.88555943e-35,  -4.84669622e-33, ...,\n",
       "         -2.60913163e-33,   6.22020966e-34,   2.72140629e-33],\n",
       "       [  1.47569417e-32,   8.90682724e-36,   7.06191528e-33, ...,\n",
       "          2.78038546e-33,  -7.05778906e-33,  -2.69452654e-33],\n",
       "       [ -2.09751586e-33,   4.30327012e-37,  -6.14855116e-34, ...,\n",
       "          7.89138553e-34,  -1.81173857e-33,  -4.94583365e-34]])"
      ]
     },
     "execution_count": 88,
     "metadata": {},
     "output_type": "execute_result"
    }
   ],
   "source": [
    "# Reconstruct the matrix by multiplying its factors\n",
    "all_donor_predicted_ratings = np.dot(np.dot(U, sigma), Vt) \n",
    "all_donor_predicted_ratings"
   ]
  },
  {
   "cell_type": "code",
   "execution_count": 89,
   "metadata": {
    "collapsed": true
   },
   "outputs": [],
   "source": [
    "#Converting the reconstructed matrix back to a Pandas dataframe\n",
    "cf_preds_df = pd.DataFrame(all_donor_predicted_ratings, \n",
    "                           columns = donors_projects_pivot_matrix_df.columns, \n",
    "                           index=donors_ids).transpose()\n",
    "#cf_preds_df.head(10)\n",
    "## Error: IOPub data rate exceeded."
   ]
  },
  {
   "cell_type": "code",
   "execution_count": 90,
   "metadata": {},
   "outputs": [
    {
     "data": {
      "text/plain": [
       "6466"
      ]
     },
     "execution_count": 90,
     "metadata": {},
     "output_type": "execute_result"
    }
   ],
   "source": [
    "len(cf_preds_df.columns)"
   ]
  },
  {
   "cell_type": "markdown",
   "metadata": {},
   "source": [
    "## Build the Collaborative Filtering Model"
   ]
  },
  {
   "cell_type": "code",
   "execution_count": 91,
   "metadata": {
    "collapsed": true
   },
   "outputs": [],
   "source": [
    "class CFRecommender:\n",
    "    \n",
    "    MODEL_NAME = 'Collaborative Filtering'\n",
    "    \n",
    "    def __init__(self, cf_predictions_df, projects=None):\n",
    "        self.cf_predictions_df = cf_predictions_df\n",
    "        self.projects = projects\n",
    "        \n",
    "    def get_model_name(self):\n",
    "        return self.MODEL_NAME\n",
    "        \n",
    "    def recommend_projects(self, donor_id, projects_to_ignore=[], topn=10):\n",
    "        # Get and sort the donor's predictions\n",
    "        sorted_donor_predictions = self.cf_predictions_df[donor_id].sort_values(ascending=False) \\\n",
    "                                    .reset_index().rename(columns={donor_id: 'recStrength'})\n",
    "\n",
    "        # Recommend the highest predicted projects that the donor hasn't donated to\n",
    "        recommendations_df = sorted_donor_predictions[~sorted_donor_predictions['project_id'].isin(projects_to_ignore)] \\\n",
    "                               .sort_values('recStrength', ascending = False) \\\n",
    "                               .head(topn)\n",
    "\n",
    " \n",
    "        recommendations_df = recommendations_df.merge(self.projects, how = 'left', \n",
    "                                                          left_on = 'project_id', \n",
    "                                                          right_on = 'project_id')[['recStrength', 'project_id', 'Project Title', 'Project Essay']]\n",
    "\n",
    "\n",
    "        return recommendations_df"
   ]
  },
  {
   "cell_type": "code",
   "execution_count": 92,
   "metadata": {
    "collapsed": true
   },
   "outputs": [],
   "source": [
    "cf_recommender_model = CFRecommender(cf_preds_df, projects)"
   ]
  },
  {
   "cell_type": "code",
   "execution_count": 93,
   "metadata": {},
   "outputs": [
    {
     "name": "stdout",
     "output_type": "stream",
     "text": [
      "Evaluating Collaborative Filtering (SVD Matrix Factorization) model...\n"
     ]
    },
    {
     "ename": "KeyError",
     "evalue": "'the label [1577993.0] is not in the [index]'",
     "output_type": "error",
     "traceback": [
      "\u001b[0;31m---------------------------------------------------------------------------\u001b[0m",
      "\u001b[0;31mKeyError\u001b[0m                                  Traceback (most recent call last)",
      "\u001b[0;32m~/anaconda3/lib/python3.6/site-packages/pandas/core/indexing.py\u001b[0m in \u001b[0;36m_has_valid_type\u001b[0;34m(self, key, axis)\u001b[0m\n\u001b[1;32m   1433\u001b[0m                 \u001b[0;32mif\u001b[0m \u001b[0;32mnot\u001b[0m \u001b[0max\u001b[0m\u001b[0;34m.\u001b[0m\u001b[0mcontains\u001b[0m\u001b[0;34m(\u001b[0m\u001b[0mkey\u001b[0m\u001b[0;34m)\u001b[0m\u001b[0;34m:\u001b[0m\u001b[0;34m\u001b[0m\u001b[0m\n\u001b[0;32m-> 1434\u001b[0;31m                     \u001b[0merror\u001b[0m\u001b[0;34m(\u001b[0m\u001b[0;34m)\u001b[0m\u001b[0;34m\u001b[0m\u001b[0m\n\u001b[0m\u001b[1;32m   1435\u001b[0m             \u001b[0;32mexcept\u001b[0m \u001b[0mTypeError\u001b[0m \u001b[0;32mas\u001b[0m \u001b[0me\u001b[0m\u001b[0;34m:\u001b[0m\u001b[0;34m\u001b[0m\u001b[0m\n",
      "\u001b[0;32m~/anaconda3/lib/python3.6/site-packages/pandas/core/indexing.py\u001b[0m in \u001b[0;36merror\u001b[0;34m()\u001b[0m\n\u001b[1;32m   1428\u001b[0m                 raise KeyError(\"the label [%s] is not in the [%s]\" %\n\u001b[0;32m-> 1429\u001b[0;31m                                (key, self.obj._get_axis_name(axis)))\n\u001b[0m\u001b[1;32m   1430\u001b[0m \u001b[0;34m\u001b[0m\u001b[0m\n",
      "\u001b[0;31mKeyError\u001b[0m: 'the label [1577993.0] is not in the [index]'",
      "\nDuring handling of the above exception, another exception occurred:\n",
      "\u001b[0;31mKeyError\u001b[0m                                  Traceback (most recent call last)",
      "\u001b[0;32m<ipython-input-93-465eeb17e6b5>\u001b[0m in \u001b[0;36m<module>\u001b[0;34m()\u001b[0m\n\u001b[1;32m      1\u001b[0m \u001b[0mprint\u001b[0m\u001b[0;34m(\u001b[0m\u001b[0;34m'Evaluating Collaborative Filtering (SVD Matrix Factorization) model...'\u001b[0m\u001b[0;34m)\u001b[0m\u001b[0;34m\u001b[0m\u001b[0m\n\u001b[0;32m----> 2\u001b[0;31m \u001b[0mcf_global_metrics\u001b[0m\u001b[0;34m,\u001b[0m \u001b[0mcf_detailed_results_df\u001b[0m \u001b[0;34m=\u001b[0m \u001b[0mmodel_evaluator\u001b[0m\u001b[0;34m.\u001b[0m\u001b[0mevaluate_model\u001b[0m\u001b[0;34m(\u001b[0m\u001b[0mcf_recommender_model\u001b[0m\u001b[0;34m)\u001b[0m\u001b[0;34m\u001b[0m\u001b[0m\n\u001b[0m\u001b[1;32m      3\u001b[0m \u001b[0mprint\u001b[0m\u001b[0;34m(\u001b[0m\u001b[0;34m'\\nGlobal metrics:\\n%s'\u001b[0m \u001b[0;34m%\u001b[0m \u001b[0mcf_global_metrics\u001b[0m\u001b[0;34m)\u001b[0m\u001b[0;34m\u001b[0m\u001b[0m\n\u001b[1;32m      4\u001b[0m \u001b[0mcf_detailed_results_df\u001b[0m\u001b[0;34m.\u001b[0m\u001b[0mhead\u001b[0m\u001b[0;34m(\u001b[0m\u001b[0;36m10\u001b[0m\u001b[0;34m)\u001b[0m\u001b[0;34m\u001b[0m\u001b[0m\n",
      "\u001b[0;32m<ipython-input-67-54aafec0e3bb>\u001b[0m in \u001b[0;36mevaluate_model\u001b[0;34m(self, model)\u001b[0m\n\u001b[1;32m     77\u001b[0m             \u001b[0;31m#if idx % 100 == 0 and idx > 0:\u001b[0m\u001b[0;34m\u001b[0m\u001b[0;34m\u001b[0m\u001b[0m\n\u001b[1;32m     78\u001b[0m             \u001b[0;31m#    print('%d users processed' % idx)\u001b[0m\u001b[0;34m\u001b[0m\u001b[0;34m\u001b[0m\u001b[0m\n\u001b[0;32m---> 79\u001b[0;31m             \u001b[0mperson_metrics\u001b[0m \u001b[0;34m=\u001b[0m \u001b[0mself\u001b[0m\u001b[0;34m.\u001b[0m\u001b[0mevaluate_model_for_user\u001b[0m\u001b[0;34m(\u001b[0m\u001b[0mmodel\u001b[0m\u001b[0;34m,\u001b[0m \u001b[0mdonor_id\u001b[0m\u001b[0;34m)\u001b[0m\u001b[0;34m\u001b[0m\u001b[0m\n\u001b[0m\u001b[1;32m     80\u001b[0m             \u001b[0mperson_metrics\u001b[0m\u001b[0;34m[\u001b[0m\u001b[0;34m'_donor_id'\u001b[0m\u001b[0;34m]\u001b[0m \u001b[0;34m=\u001b[0m \u001b[0mdonor_id\u001b[0m\u001b[0;34m\u001b[0m\u001b[0m\n\u001b[1;32m     81\u001b[0m             \u001b[0mpeople_metrics\u001b[0m\u001b[0;34m.\u001b[0m\u001b[0mappend\u001b[0m\u001b[0;34m(\u001b[0m\u001b[0mperson_metrics\u001b[0m\u001b[0;34m)\u001b[0m\u001b[0;34m\u001b[0m\u001b[0m\n",
      "\u001b[0;32m<ipython-input-67-54aafec0e3bb>\u001b[0m in \u001b[0;36mevaluate_model_for_user\u001b[0;34m(self, model, donor_id)\u001b[0m\n\u001b[1;32m     34\u001b[0m         person_recs_df = model.recommend_projects(donor_id, \n\u001b[1;32m     35\u001b[0m                                                projects_to_ignore=get_proj_donated(donor_id, \n\u001b[0;32m---> 36\u001b[0;31m                                                                                     donations_train_indexed_df), \n\u001b[0m\u001b[1;32m     37\u001b[0m                                                topn=10000000000)\n\u001b[1;32m     38\u001b[0m \u001b[0;34m\u001b[0m\u001b[0m\n",
      "\u001b[0;32m<ipython-input-65-77c2a4fba718>\u001b[0m in \u001b[0;36mget_proj_donated\u001b[0;34m(donor_id, donations_df)\u001b[0m\n\u001b[1;32m      2\u001b[0m \u001b[0;32mdef\u001b[0m \u001b[0mget_proj_donated\u001b[0m\u001b[0;34m(\u001b[0m\u001b[0mdonor_id\u001b[0m\u001b[0;34m,\u001b[0m \u001b[0mdonations_df\u001b[0m\u001b[0;34m)\u001b[0m\u001b[0;34m:\u001b[0m\u001b[0;34m\u001b[0m\u001b[0m\n\u001b[1;32m      3\u001b[0m     \u001b[0;31m# Get the user's data and merge in project info\u001b[0m\u001b[0;34m\u001b[0m\u001b[0;34m\u001b[0m\u001b[0m\n\u001b[0;32m----> 4\u001b[0;31m     \u001b[0mdonated_projects\u001b[0m \u001b[0;34m=\u001b[0m \u001b[0mdonations_df\u001b[0m\u001b[0;34m.\u001b[0m\u001b[0mloc\u001b[0m\u001b[0;34m[\u001b[0m\u001b[0mdonor_id\u001b[0m\u001b[0;34m]\u001b[0m\u001b[0;34m[\u001b[0m\u001b[0;34m'project_id'\u001b[0m\u001b[0;34m]\u001b[0m\u001b[0;34m\u001b[0m\u001b[0m\n\u001b[0m\u001b[1;32m      5\u001b[0m     \u001b[0;32mreturn\u001b[0m \u001b[0mset\u001b[0m\u001b[0;34m(\u001b[0m\u001b[0mdonated_projects\u001b[0m \u001b[0;32mif\u001b[0m \u001b[0mtype\u001b[0m\u001b[0;34m(\u001b[0m\u001b[0mdonated_projects\u001b[0m\u001b[0;34m)\u001b[0m \u001b[0;34m==\u001b[0m \u001b[0mpd\u001b[0m\u001b[0;34m.\u001b[0m\u001b[0mSeries\u001b[0m \u001b[0;32melse\u001b[0m \u001b[0;34m[\u001b[0m\u001b[0mdonated_projects\u001b[0m\u001b[0;34m]\u001b[0m\u001b[0;34m)\u001b[0m\u001b[0;34m\u001b[0m\u001b[0m\n",
      "\u001b[0;32m~/anaconda3/lib/python3.6/site-packages/pandas/core/indexing.py\u001b[0m in \u001b[0;36m__getitem__\u001b[0;34m(self, key)\u001b[0m\n\u001b[1;32m   1326\u001b[0m         \u001b[0;32melse\u001b[0m\u001b[0;34m:\u001b[0m\u001b[0;34m\u001b[0m\u001b[0m\n\u001b[1;32m   1327\u001b[0m             \u001b[0mkey\u001b[0m \u001b[0;34m=\u001b[0m \u001b[0mcom\u001b[0m\u001b[0;34m.\u001b[0m\u001b[0m_apply_if_callable\u001b[0m\u001b[0;34m(\u001b[0m\u001b[0mkey\u001b[0m\u001b[0;34m,\u001b[0m \u001b[0mself\u001b[0m\u001b[0;34m.\u001b[0m\u001b[0mobj\u001b[0m\u001b[0;34m)\u001b[0m\u001b[0;34m\u001b[0m\u001b[0m\n\u001b[0;32m-> 1328\u001b[0;31m             \u001b[0;32mreturn\u001b[0m \u001b[0mself\u001b[0m\u001b[0;34m.\u001b[0m\u001b[0m_getitem_axis\u001b[0m\u001b[0;34m(\u001b[0m\u001b[0mkey\u001b[0m\u001b[0;34m,\u001b[0m \u001b[0maxis\u001b[0m\u001b[0;34m=\u001b[0m\u001b[0;36m0\u001b[0m\u001b[0;34m)\u001b[0m\u001b[0;34m\u001b[0m\u001b[0m\n\u001b[0m\u001b[1;32m   1329\u001b[0m \u001b[0;34m\u001b[0m\u001b[0m\n\u001b[1;32m   1330\u001b[0m     \u001b[0;32mdef\u001b[0m \u001b[0m_is_scalar_access\u001b[0m\u001b[0;34m(\u001b[0m\u001b[0mself\u001b[0m\u001b[0;34m,\u001b[0m \u001b[0mkey\u001b[0m\u001b[0;34m)\u001b[0m\u001b[0;34m:\u001b[0m\u001b[0;34m\u001b[0m\u001b[0m\n",
      "\u001b[0;32m~/anaconda3/lib/python3.6/site-packages/pandas/core/indexing.py\u001b[0m in \u001b[0;36m_getitem_axis\u001b[0;34m(self, key, axis)\u001b[0m\n\u001b[1;32m   1549\u001b[0m \u001b[0;34m\u001b[0m\u001b[0m\n\u001b[1;32m   1550\u001b[0m         \u001b[0;31m# fall thru to straight lookup\u001b[0m\u001b[0;34m\u001b[0m\u001b[0;34m\u001b[0m\u001b[0m\n\u001b[0;32m-> 1551\u001b[0;31m         \u001b[0mself\u001b[0m\u001b[0;34m.\u001b[0m\u001b[0m_has_valid_type\u001b[0m\u001b[0;34m(\u001b[0m\u001b[0mkey\u001b[0m\u001b[0;34m,\u001b[0m \u001b[0maxis\u001b[0m\u001b[0;34m)\u001b[0m\u001b[0;34m\u001b[0m\u001b[0m\n\u001b[0m\u001b[1;32m   1552\u001b[0m         \u001b[0;32mreturn\u001b[0m \u001b[0mself\u001b[0m\u001b[0;34m.\u001b[0m\u001b[0m_get_label\u001b[0m\u001b[0;34m(\u001b[0m\u001b[0mkey\u001b[0m\u001b[0;34m,\u001b[0m \u001b[0maxis\u001b[0m\u001b[0;34m=\u001b[0m\u001b[0maxis\u001b[0m\u001b[0;34m)\u001b[0m\u001b[0;34m\u001b[0m\u001b[0m\n\u001b[1;32m   1553\u001b[0m \u001b[0;34m\u001b[0m\u001b[0m\n",
      "\u001b[0;32m~/anaconda3/lib/python3.6/site-packages/pandas/core/indexing.py\u001b[0m in \u001b[0;36m_has_valid_type\u001b[0;34m(self, key, axis)\u001b[0m\n\u001b[1;32m   1440\u001b[0m                 \u001b[0;32mraise\u001b[0m\u001b[0;34m\u001b[0m\u001b[0m\n\u001b[1;32m   1441\u001b[0m             \u001b[0;32mexcept\u001b[0m\u001b[0;34m:\u001b[0m\u001b[0;34m\u001b[0m\u001b[0m\n\u001b[0;32m-> 1442\u001b[0;31m                 \u001b[0merror\u001b[0m\u001b[0;34m(\u001b[0m\u001b[0;34m)\u001b[0m\u001b[0;34m\u001b[0m\u001b[0m\n\u001b[0m\u001b[1;32m   1443\u001b[0m \u001b[0;34m\u001b[0m\u001b[0m\n\u001b[1;32m   1444\u001b[0m         \u001b[0;32mreturn\u001b[0m \u001b[0;32mTrue\u001b[0m\u001b[0;34m\u001b[0m\u001b[0m\n",
      "\u001b[0;32m~/anaconda3/lib/python3.6/site-packages/pandas/core/indexing.py\u001b[0m in \u001b[0;36merror\u001b[0;34m()\u001b[0m\n\u001b[1;32m   1427\u001b[0m                                     \"key\")\n\u001b[1;32m   1428\u001b[0m                 raise KeyError(\"the label [%s] is not in the [%s]\" %\n\u001b[0;32m-> 1429\u001b[0;31m                                (key, self.obj._get_axis_name(axis)))\n\u001b[0m\u001b[1;32m   1430\u001b[0m \u001b[0;34m\u001b[0m\u001b[0m\n\u001b[1;32m   1431\u001b[0m             \u001b[0;32mtry\u001b[0m\u001b[0;34m:\u001b[0m\u001b[0;34m\u001b[0m\u001b[0m\n",
      "\u001b[0;31mKeyError\u001b[0m: 'the label [1577993.0] is not in the [index]'"
     ]
    }
   ],
   "source": [
    "print('Evaluating Collaborative Filtering (SVD Matrix Factorization) model...')\n",
    "cf_global_metrics, cf_detailed_results_df = model_evaluator.evaluate_model(cf_recommender_model)\n",
    "print('\\nGlobal metrics:\\n%s' % cf_global_metrics)\n",
    "cf_detailed_results_df.head(10)"
   ]
  },
  {
   "cell_type": "code",
   "execution_count": 94,
   "metadata": {},
   "outputs": [
    {
     "data": {
      "text/html": [
       "<div>\n",
       "<style>\n",
       "    .dataframe thead tr:only-child th {\n",
       "        text-align: right;\n",
       "    }\n",
       "\n",
       "    .dataframe thead th {\n",
       "        text-align: left;\n",
       "    }\n",
       "\n",
       "    .dataframe tbody tr th {\n",
       "        vertical-align: top;\n",
       "    }\n",
       "</style>\n",
       "<table border=\"1\" class=\"dataframe\">\n",
       "  <thead>\n",
       "    <tr style=\"text-align: right;\">\n",
       "      <th></th>\n",
       "      <th>recStrength</th>\n",
       "      <th>project_id</th>\n",
       "      <th>Project Title</th>\n",
       "      <th>Project Essay</th>\n",
       "    </tr>\n",
       "  </thead>\n",
       "  <tbody>\n",
       "    <tr>\n",
       "      <th>0</th>\n",
       "      <td>2.890099e-17</td>\n",
       "      <td>270325</td>\n",
       "      <td>may i have this dance, please?</td>\n",
       "      <td>the tango music begins. the students look at o...</td>\n",
       "    </tr>\n",
       "    <tr>\n",
       "      <th>1</th>\n",
       "      <td>2.453482e-17</td>\n",
       "      <td>577373</td>\n",
       "      <td>claymation experimentation</td>\n",
       "      <td>after seeing my students sewing a jabba the hu...</td>\n",
       "    </tr>\n",
       "    <tr>\n",
       "      <th>2</th>\n",
       "      <td>1.614747e-17</td>\n",
       "      <td>386868</td>\n",
       "      <td>document cameras for student centered learning!</td>\n",
       "      <td>has someone ever tried to explain a concept to...</td>\n",
       "    </tr>\n",
       "    <tr>\n",
       "      <th>3</th>\n",
       "      <td>1.597884e-17</td>\n",
       "      <td>261670</td>\n",
       "      <td>help us document our artistic growth!</td>\n",
       "      <td>the art room is a very busy place!  it is full...</td>\n",
       "    </tr>\n",
       "    <tr>\n",
       "      <th>4</th>\n",
       "      <td>1.543344e-17</td>\n",
       "      <td>1000049</td>\n",
       "      <td>purposeful play on the playground</td>\n",
       "      <td>our students come from a title i school in jer...</td>\n",
       "    </tr>\n",
       "    <tr>\n",
       "      <th>5</th>\n",
       "      <td>1.506141e-17</td>\n",
       "      <td>129793</td>\n",
       "      <td>help! third graders need a pencil sharpener</td>\n",
       "      <td>having writing utensils is essential for stude...</td>\n",
       "    </tr>\n",
       "    <tr>\n",
       "      <th>6</th>\n",
       "      <td>1.341774e-17</td>\n",
       "      <td>288913</td>\n",
       "      <td>feed my brilliant bookworms!!!</td>\n",
       "      <td>hi there! do you want to help to instill a lif...</td>\n",
       "    </tr>\n",
       "    <tr>\n",
       "      <th>7</th>\n",
       "      <td>1.316624e-17</td>\n",
       "      <td>498208</td>\n",
       "      <td>astronomical astronomy</td>\n",
       "      <td>my classroom is a melting pot in a suburb of n...</td>\n",
       "    </tr>\n",
       "    <tr>\n",
       "      <th>8</th>\n",
       "      <td>1.257348e-17</td>\n",
       "      <td>347277</td>\n",
       "      <td>a calming classroom carpet</td>\n",
       "      <td>\"sometimes the questions are complicated and t...</td>\n",
       "    </tr>\n",
       "    <tr>\n",
       "      <th>9</th>\n",
       "      <td>1.161105e-17</td>\n",
       "      <td>455330</td>\n",
       "      <td>tower gardens for our school</td>\n",
       "      <td>as service learning coordinators at our elemen...</td>\n",
       "    </tr>\n",
       "  </tbody>\n",
       "</table>\n",
       "</div>"
      ],
      "text/plain": [
       "    recStrength  project_id                                    Project Title  \\\n",
       "0  2.890099e-17      270325                   may i have this dance, please?   \n",
       "1  2.453482e-17      577373                       claymation experimentation   \n",
       "2  1.614747e-17      386868  document cameras for student centered learning!   \n",
       "3  1.597884e-17      261670            help us document our artistic growth!   \n",
       "4  1.543344e-17     1000049                purposeful play on the playground   \n",
       "5  1.506141e-17      129793      help! third graders need a pencil sharpener   \n",
       "6  1.341774e-17      288913                   feed my brilliant bookworms!!!   \n",
       "7  1.316624e-17      498208                           astronomical astronomy   \n",
       "8  1.257348e-17      347277                       a calming classroom carpet   \n",
       "9  1.161105e-17      455330                     tower gardens for our school   \n",
       "\n",
       "                                       Project Essay  \n",
       "0  the tango music begins. the students look at o...  \n",
       "1  after seeing my students sewing a jabba the hu...  \n",
       "2  has someone ever tried to explain a concept to...  \n",
       "3  the art room is a very busy place!  it is full...  \n",
       "4  our students come from a title i school in jer...  \n",
       "5  having writing utensils is essential for stude...  \n",
       "6  hi there! do you want to help to instill a lif...  \n",
       "7  my classroom is a melting pot in a suburb of n...  \n",
       "8  \"sometimes the questions are complicated and t...  \n",
       "9  as service learning coordinators at our elemen...  "
      ]
     },
     "execution_count": 94,
     "metadata": {},
     "output_type": "execute_result"
    }
   ],
   "source": [
    "cf_recommender_model.recommend_projects(donor1)"
   ]
  },
  {
   "cell_type": "code",
   "execution_count": 95,
   "metadata": {},
   "outputs": [
    {
     "ename": "NameError",
     "evalue": "name 'donor2' is not defined",
     "output_type": "error",
     "traceback": [
      "\u001b[0;31m---------------------------------------------------------------------------\u001b[0m",
      "\u001b[0;31mNameError\u001b[0m                                 Traceback (most recent call last)",
      "\u001b[0;32m<ipython-input-95-78e57f82fe0c>\u001b[0m in \u001b[0;36m<module>\u001b[0;34m()\u001b[0m\n\u001b[0;32m----> 1\u001b[0;31m \u001b[0mcf_recommender_model\u001b[0m\u001b[0;34m.\u001b[0m\u001b[0mrecommend_projects\u001b[0m\u001b[0;34m(\u001b[0m\u001b[0mdonor2\u001b[0m\u001b[0;34m)\u001b[0m\u001b[0;34m\u001b[0m\u001b[0m\n\u001b[0m",
      "\u001b[0;31mNameError\u001b[0m: name 'donor2' is not defined"
     ]
    }
   ],
   "source": [
    "cf_recommender_model.recommend_projects(donor2)"
   ]
  },
  {
   "cell_type": "markdown",
   "metadata": {},
   "source": [
    "# Hybrid Method"
   ]
  },
  {
   "cell_type": "code",
   "execution_count": 96,
   "metadata": {
    "collapsed": true
   },
   "outputs": [],
   "source": [
    "class HybridRecommender:\n",
    "    \n",
    "    MODEL_NAME = 'Hybrid'\n",
    "    \n",
    "    def __init__(self, cb_rec_model, cf_rec_model, projects_df):\n",
    "        self.cb_rec_model = cb_rec_model\n",
    "        self.cf_rec_model = cf_rec_model\n",
    "        self.projects_df = projects_df\n",
    "        \n",
    "    def get_model_name(self):\n",
    "        return self.MODEL_NAME\n",
    "        \n",
    "    def recommend_projects(self, donor_id, projects_to_ignore=[], topn=10):\n",
    "        #Getting the top-1000 Content-based filtering recommendations\n",
    "        cb_recs_df = self.cb_rec_model.recommend_projects(donor_id, projects_to_ignore=projects_to_ignore, \n",
    "                                                           topn=1000).rename(columns={'recStrength': 'recStrengthCB'})\n",
    "        \n",
    "        #Getting the top-1000 Collaborative filtering recommendations\n",
    "        cf_recs_df = self.cf_rec_model.recommend_projects(donor_id, projects_to_ignore=projects_to_ignore,  \n",
    "                                                           topn=1000).rename(columns={'recStrength': 'recStrengthCF'})\n",
    "        \n",
    "        #Combining the results by project_id\n",
    "        recs_df = cb_recs_df.merge(cf_recs_df,\n",
    "                                   how = 'inner', \n",
    "                                   left_on = 'project_id', \n",
    "                                   right_on = 'project_id')\n",
    "        \n",
    "        #Computing a hybrid recommendation score based on CF and CB scores\n",
    "        recs_df['recStrengthHybrid'] = recs_df['recStrengthCB'] * recs_df['recStrengthCF']\n",
    "        \n",
    "        #Sorting recommendations by hybrid score\n",
    "        recommendations_df = recs_df.sort_values('recStrengthHybrid', ascending=False).head(topn)\n",
    "\n",
    "        recommendations_df = recommendations_df.merge(self.projects_df, how = 'left', \n",
    "                                                    left_on = 'project_id', \n",
    "                                                    right_on = 'project_id')[['recStrengthHybrid', \n",
    "                                                                              'project_id', 'Project Title', \n",
    "                                                                              'Project Essay']]\n",
    "\n",
    "\n",
    "        return recommendations_df\n",
    "    \n",
    "hybrid_recommender_model = HybridRecommender(content_based_recommender_model, cf_recommender_model, projects)"
   ]
  },
  {
   "cell_type": "code",
   "execution_count": 97,
   "metadata": {},
   "outputs": [
    {
     "data": {
      "text/html": [
       "<div>\n",
       "<style>\n",
       "    .dataframe thead tr:only-child th {\n",
       "        text-align: right;\n",
       "    }\n",
       "\n",
       "    .dataframe thead th {\n",
       "        text-align: left;\n",
       "    }\n",
       "\n",
       "    .dataframe tbody tr th {\n",
       "        vertical-align: top;\n",
       "    }\n",
       "</style>\n",
       "<table border=\"1\" class=\"dataframe\">\n",
       "  <thead>\n",
       "    <tr style=\"text-align: right;\">\n",
       "      <th></th>\n",
       "      <th>recStrengthHybrid</th>\n",
       "      <th>project_id</th>\n",
       "      <th>Project Title</th>\n",
       "      <th>Project Essay</th>\n",
       "    </tr>\n",
       "  </thead>\n",
       "  <tbody>\n",
       "    <tr>\n",
       "      <th>0</th>\n",
       "      <td>2.801618e-18</td>\n",
       "      <td>288913</td>\n",
       "      <td>feed my brilliant bookworms!!!</td>\n",
       "      <td>hi there! do you want to help to instill a lif...</td>\n",
       "    </tr>\n",
       "    <tr>\n",
       "      <th>1</th>\n",
       "      <td>2.096616e-18</td>\n",
       "      <td>163851</td>\n",
       "      <td>jonesing for some good comprehension activities</td>\n",
       "      <td>i teach in an integrated co-teaching classroom...</td>\n",
       "    </tr>\n",
       "    <tr>\n",
       "      <th>2</th>\n",
       "      <td>1.651523e-18</td>\n",
       "      <td>577373</td>\n",
       "      <td>claymation experimentation</td>\n",
       "      <td>after seeing my students sewing a jabba the hu...</td>\n",
       "    </tr>\n",
       "    <tr>\n",
       "      <th>3</th>\n",
       "      <td>1.125072e-18</td>\n",
       "      <td>129793</td>\n",
       "      <td>help! third graders need a pencil sharpener</td>\n",
       "      <td>having writing utensils is essential for stude...</td>\n",
       "    </tr>\n",
       "    <tr>\n",
       "      <th>4</th>\n",
       "      <td>1.009650e-18</td>\n",
       "      <td>1000049</td>\n",
       "      <td>purposeful play on the playground</td>\n",
       "      <td>our students come from a title i school in jer...</td>\n",
       "    </tr>\n",
       "    <tr>\n",
       "      <th>5</th>\n",
       "      <td>9.099041e-19</td>\n",
       "      <td>76716</td>\n",
       "      <td>leveled books to help us read!</td>\n",
       "      <td>have you ever been told you need to read, but ...</td>\n",
       "    </tr>\n",
       "    <tr>\n",
       "      <th>6</th>\n",
       "      <td>8.829033e-19</td>\n",
       "      <td>386868</td>\n",
       "      <td>document cameras for student centered learning!</td>\n",
       "      <td>has someone ever tried to explain a concept to...</td>\n",
       "    </tr>\n",
       "    <tr>\n",
       "      <th>7</th>\n",
       "      <td>7.977452e-19</td>\n",
       "      <td>347277</td>\n",
       "      <td>a calming classroom carpet</td>\n",
       "      <td>\"sometimes the questions are complicated and t...</td>\n",
       "    </tr>\n",
       "    <tr>\n",
       "      <th>8</th>\n",
       "      <td>5.147061e-19</td>\n",
       "      <td>531848</td>\n",
       "      <td>best books of 2015</td>\n",
       "      <td>there's no such thing as a kid who hates readi...</td>\n",
       "    </tr>\n",
       "    <tr>\n",
       "      <th>9</th>\n",
       "      <td>4.429421e-19</td>\n",
       "      <td>50843</td>\n",
       "      <td>let's get organized!</td>\n",
       "      <td>help us learn to take responsibility for our m...</td>\n",
       "    </tr>\n",
       "  </tbody>\n",
       "</table>\n",
       "</div>"
      ],
      "text/plain": [
       "   recStrengthHybrid  project_id  \\\n",
       "0       2.801618e-18      288913   \n",
       "1       2.096616e-18      163851   \n",
       "2       1.651523e-18      577373   \n",
       "3       1.125072e-18      129793   \n",
       "4       1.009650e-18     1000049   \n",
       "5       9.099041e-19       76716   \n",
       "6       8.829033e-19      386868   \n",
       "7       7.977452e-19      347277   \n",
       "8       5.147061e-19      531848   \n",
       "9       4.429421e-19       50843   \n",
       "\n",
       "                                     Project Title  \\\n",
       "0                   feed my brilliant bookworms!!!   \n",
       "1  jonesing for some good comprehension activities   \n",
       "2                       claymation experimentation   \n",
       "3      help! third graders need a pencil sharpener   \n",
       "4                purposeful play on the playground   \n",
       "5                   leveled books to help us read!   \n",
       "6  document cameras for student centered learning!   \n",
       "7                       a calming classroom carpet   \n",
       "8                               best books of 2015   \n",
       "9                             let's get organized!   \n",
       "\n",
       "                                       Project Essay  \n",
       "0  hi there! do you want to help to instill a lif...  \n",
       "1  i teach in an integrated co-teaching classroom...  \n",
       "2  after seeing my students sewing a jabba the hu...  \n",
       "3  having writing utensils is essential for stude...  \n",
       "4  our students come from a title i school in jer...  \n",
       "5  have you ever been told you need to read, but ...  \n",
       "6  has someone ever tried to explain a concept to...  \n",
       "7  \"sometimes the questions are complicated and t...  \n",
       "8  there's no such thing as a kid who hates readi...  \n",
       "9  help us learn to take responsibility for our m...  "
      ]
     },
     "execution_count": 97,
     "metadata": {},
     "output_type": "execute_result"
    }
   ],
   "source": [
    "hybrid_recommender_model.recommend_projects(donor1)"
   ]
  },
  {
   "cell_type": "code",
   "execution_count": 98,
   "metadata": {},
   "outputs": [
    {
     "ename": "NameError",
     "evalue": "name 'donor2' is not defined",
     "output_type": "error",
     "traceback": [
      "\u001b[0;31m---------------------------------------------------------------------------\u001b[0m",
      "\u001b[0;31mNameError\u001b[0m                                 Traceback (most recent call last)",
      "\u001b[0;32m<ipython-input-98-7ad22c994670>\u001b[0m in \u001b[0;36m<module>\u001b[0;34m()\u001b[0m\n\u001b[0;32m----> 1\u001b[0;31m \u001b[0mhybrid_recommender_model\u001b[0m\u001b[0;34m.\u001b[0m\u001b[0mrecommend_projects\u001b[0m\u001b[0;34m(\u001b[0m\u001b[0mdonor2\u001b[0m\u001b[0;34m)\u001b[0m\u001b[0;34m\u001b[0m\u001b[0m\n\u001b[0m",
      "\u001b[0;31mNameError\u001b[0m: name 'donor2' is not defined"
     ]
    }
   ],
   "source": [
    "hybrid_recommender_model.recommend_projects(donor2)"
   ]
  },
  {
   "cell_type": "code",
   "execution_count": 99,
   "metadata": {},
   "outputs": [
    {
     "name": "stdout",
     "output_type": "stream",
     "text": [
      "Evaluating Hybrid model...\n"
     ]
    },
    {
     "ename": "KeyError",
     "evalue": "'the label [1577993.0] is not in the [index]'",
     "output_type": "error",
     "traceback": [
      "\u001b[0;31m---------------------------------------------------------------------------\u001b[0m",
      "\u001b[0;31mKeyError\u001b[0m                                  Traceback (most recent call last)",
      "\u001b[0;32m~/anaconda3/lib/python3.6/site-packages/pandas/core/indexing.py\u001b[0m in \u001b[0;36m_has_valid_type\u001b[0;34m(self, key, axis)\u001b[0m\n\u001b[1;32m   1433\u001b[0m                 \u001b[0;32mif\u001b[0m \u001b[0;32mnot\u001b[0m \u001b[0max\u001b[0m\u001b[0;34m.\u001b[0m\u001b[0mcontains\u001b[0m\u001b[0;34m(\u001b[0m\u001b[0mkey\u001b[0m\u001b[0;34m)\u001b[0m\u001b[0;34m:\u001b[0m\u001b[0;34m\u001b[0m\u001b[0m\n\u001b[0;32m-> 1434\u001b[0;31m                     \u001b[0merror\u001b[0m\u001b[0;34m(\u001b[0m\u001b[0;34m)\u001b[0m\u001b[0;34m\u001b[0m\u001b[0m\n\u001b[0m\u001b[1;32m   1435\u001b[0m             \u001b[0;32mexcept\u001b[0m \u001b[0mTypeError\u001b[0m \u001b[0;32mas\u001b[0m \u001b[0me\u001b[0m\u001b[0;34m:\u001b[0m\u001b[0;34m\u001b[0m\u001b[0m\n",
      "\u001b[0;32m~/anaconda3/lib/python3.6/site-packages/pandas/core/indexing.py\u001b[0m in \u001b[0;36merror\u001b[0;34m()\u001b[0m\n\u001b[1;32m   1428\u001b[0m                 raise KeyError(\"the label [%s] is not in the [%s]\" %\n\u001b[0;32m-> 1429\u001b[0;31m                                (key, self.obj._get_axis_name(axis)))\n\u001b[0m\u001b[1;32m   1430\u001b[0m \u001b[0;34m\u001b[0m\u001b[0m\n",
      "\u001b[0;31mKeyError\u001b[0m: 'the label [1577993.0] is not in the [index]'",
      "\nDuring handling of the above exception, another exception occurred:\n",
      "\u001b[0;31mKeyError\u001b[0m                                  Traceback (most recent call last)",
      "\u001b[0;32m<ipython-input-99-6233b950ee95>\u001b[0m in \u001b[0;36m<module>\u001b[0;34m()\u001b[0m\n\u001b[1;32m      1\u001b[0m \u001b[0mprint\u001b[0m\u001b[0;34m(\u001b[0m\u001b[0;34m'Evaluating Hybrid model...'\u001b[0m\u001b[0;34m)\u001b[0m\u001b[0;34m\u001b[0m\u001b[0m\n\u001b[0;32m----> 2\u001b[0;31m \u001b[0mhybrid_global_metrics\u001b[0m\u001b[0;34m,\u001b[0m \u001b[0mhybrid_detailed_results_df\u001b[0m \u001b[0;34m=\u001b[0m \u001b[0mmodel_evaluator\u001b[0m\u001b[0;34m.\u001b[0m\u001b[0mevaluate_model\u001b[0m\u001b[0;34m(\u001b[0m\u001b[0mhybrid_recommender_model\u001b[0m\u001b[0;34m)\u001b[0m\u001b[0;34m\u001b[0m\u001b[0m\n\u001b[0m\u001b[1;32m      3\u001b[0m \u001b[0mprint\u001b[0m\u001b[0;34m(\u001b[0m\u001b[0;34m'\\nGlobal metrics:\\n%s'\u001b[0m \u001b[0;34m%\u001b[0m \u001b[0mhybrid_global_metrics\u001b[0m\u001b[0;34m)\u001b[0m\u001b[0;34m\u001b[0m\u001b[0m\n\u001b[1;32m      4\u001b[0m \u001b[0mhybrid_detailed_results_df\u001b[0m\u001b[0;34m.\u001b[0m\u001b[0mhead\u001b[0m\u001b[0;34m(\u001b[0m\u001b[0;36m10\u001b[0m\u001b[0;34m)\u001b[0m\u001b[0;34m\u001b[0m\u001b[0m\n",
      "\u001b[0;32m<ipython-input-67-54aafec0e3bb>\u001b[0m in \u001b[0;36mevaluate_model\u001b[0;34m(self, model)\u001b[0m\n\u001b[1;32m     77\u001b[0m             \u001b[0;31m#if idx % 100 == 0 and idx > 0:\u001b[0m\u001b[0;34m\u001b[0m\u001b[0;34m\u001b[0m\u001b[0m\n\u001b[1;32m     78\u001b[0m             \u001b[0;31m#    print('%d users processed' % idx)\u001b[0m\u001b[0;34m\u001b[0m\u001b[0;34m\u001b[0m\u001b[0m\n\u001b[0;32m---> 79\u001b[0;31m             \u001b[0mperson_metrics\u001b[0m \u001b[0;34m=\u001b[0m \u001b[0mself\u001b[0m\u001b[0;34m.\u001b[0m\u001b[0mevaluate_model_for_user\u001b[0m\u001b[0;34m(\u001b[0m\u001b[0mmodel\u001b[0m\u001b[0;34m,\u001b[0m \u001b[0mdonor_id\u001b[0m\u001b[0;34m)\u001b[0m\u001b[0;34m\u001b[0m\u001b[0m\n\u001b[0m\u001b[1;32m     80\u001b[0m             \u001b[0mperson_metrics\u001b[0m\u001b[0;34m[\u001b[0m\u001b[0;34m'_donor_id'\u001b[0m\u001b[0;34m]\u001b[0m \u001b[0;34m=\u001b[0m \u001b[0mdonor_id\u001b[0m\u001b[0;34m\u001b[0m\u001b[0m\n\u001b[1;32m     81\u001b[0m             \u001b[0mpeople_metrics\u001b[0m\u001b[0;34m.\u001b[0m\u001b[0mappend\u001b[0m\u001b[0;34m(\u001b[0m\u001b[0mperson_metrics\u001b[0m\u001b[0;34m)\u001b[0m\u001b[0;34m\u001b[0m\u001b[0m\n",
      "\u001b[0;32m<ipython-input-67-54aafec0e3bb>\u001b[0m in \u001b[0;36mevaluate_model_for_user\u001b[0;34m(self, model, donor_id)\u001b[0m\n\u001b[1;32m     34\u001b[0m         person_recs_df = model.recommend_projects(donor_id, \n\u001b[1;32m     35\u001b[0m                                                projects_to_ignore=get_proj_donated(donor_id, \n\u001b[0;32m---> 36\u001b[0;31m                                                                                     donations_train_indexed_df), \n\u001b[0m\u001b[1;32m     37\u001b[0m                                                topn=10000000000)\n\u001b[1;32m     38\u001b[0m \u001b[0;34m\u001b[0m\u001b[0m\n",
      "\u001b[0;32m<ipython-input-65-77c2a4fba718>\u001b[0m in \u001b[0;36mget_proj_donated\u001b[0;34m(donor_id, donations_df)\u001b[0m\n\u001b[1;32m      2\u001b[0m \u001b[0;32mdef\u001b[0m \u001b[0mget_proj_donated\u001b[0m\u001b[0;34m(\u001b[0m\u001b[0mdonor_id\u001b[0m\u001b[0;34m,\u001b[0m \u001b[0mdonations_df\u001b[0m\u001b[0;34m)\u001b[0m\u001b[0;34m:\u001b[0m\u001b[0;34m\u001b[0m\u001b[0m\n\u001b[1;32m      3\u001b[0m     \u001b[0;31m# Get the user's data and merge in project info\u001b[0m\u001b[0;34m\u001b[0m\u001b[0;34m\u001b[0m\u001b[0m\n\u001b[0;32m----> 4\u001b[0;31m     \u001b[0mdonated_projects\u001b[0m \u001b[0;34m=\u001b[0m \u001b[0mdonations_df\u001b[0m\u001b[0;34m.\u001b[0m\u001b[0mloc\u001b[0m\u001b[0;34m[\u001b[0m\u001b[0mdonor_id\u001b[0m\u001b[0;34m]\u001b[0m\u001b[0;34m[\u001b[0m\u001b[0;34m'project_id'\u001b[0m\u001b[0;34m]\u001b[0m\u001b[0;34m\u001b[0m\u001b[0m\n\u001b[0m\u001b[1;32m      5\u001b[0m     \u001b[0;32mreturn\u001b[0m \u001b[0mset\u001b[0m\u001b[0;34m(\u001b[0m\u001b[0mdonated_projects\u001b[0m \u001b[0;32mif\u001b[0m \u001b[0mtype\u001b[0m\u001b[0;34m(\u001b[0m\u001b[0mdonated_projects\u001b[0m\u001b[0;34m)\u001b[0m \u001b[0;34m==\u001b[0m \u001b[0mpd\u001b[0m\u001b[0;34m.\u001b[0m\u001b[0mSeries\u001b[0m \u001b[0;32melse\u001b[0m \u001b[0;34m[\u001b[0m\u001b[0mdonated_projects\u001b[0m\u001b[0;34m]\u001b[0m\u001b[0;34m)\u001b[0m\u001b[0;34m\u001b[0m\u001b[0m\n",
      "\u001b[0;32m~/anaconda3/lib/python3.6/site-packages/pandas/core/indexing.py\u001b[0m in \u001b[0;36m__getitem__\u001b[0;34m(self, key)\u001b[0m\n\u001b[1;32m   1326\u001b[0m         \u001b[0;32melse\u001b[0m\u001b[0;34m:\u001b[0m\u001b[0;34m\u001b[0m\u001b[0m\n\u001b[1;32m   1327\u001b[0m             \u001b[0mkey\u001b[0m \u001b[0;34m=\u001b[0m \u001b[0mcom\u001b[0m\u001b[0;34m.\u001b[0m\u001b[0m_apply_if_callable\u001b[0m\u001b[0;34m(\u001b[0m\u001b[0mkey\u001b[0m\u001b[0;34m,\u001b[0m \u001b[0mself\u001b[0m\u001b[0;34m.\u001b[0m\u001b[0mobj\u001b[0m\u001b[0;34m)\u001b[0m\u001b[0;34m\u001b[0m\u001b[0m\n\u001b[0;32m-> 1328\u001b[0;31m             \u001b[0;32mreturn\u001b[0m \u001b[0mself\u001b[0m\u001b[0;34m.\u001b[0m\u001b[0m_getitem_axis\u001b[0m\u001b[0;34m(\u001b[0m\u001b[0mkey\u001b[0m\u001b[0;34m,\u001b[0m \u001b[0maxis\u001b[0m\u001b[0;34m=\u001b[0m\u001b[0;36m0\u001b[0m\u001b[0;34m)\u001b[0m\u001b[0;34m\u001b[0m\u001b[0m\n\u001b[0m\u001b[1;32m   1329\u001b[0m \u001b[0;34m\u001b[0m\u001b[0m\n\u001b[1;32m   1330\u001b[0m     \u001b[0;32mdef\u001b[0m \u001b[0m_is_scalar_access\u001b[0m\u001b[0;34m(\u001b[0m\u001b[0mself\u001b[0m\u001b[0;34m,\u001b[0m \u001b[0mkey\u001b[0m\u001b[0;34m)\u001b[0m\u001b[0;34m:\u001b[0m\u001b[0;34m\u001b[0m\u001b[0m\n",
      "\u001b[0;32m~/anaconda3/lib/python3.6/site-packages/pandas/core/indexing.py\u001b[0m in \u001b[0;36m_getitem_axis\u001b[0;34m(self, key, axis)\u001b[0m\n\u001b[1;32m   1549\u001b[0m \u001b[0;34m\u001b[0m\u001b[0m\n\u001b[1;32m   1550\u001b[0m         \u001b[0;31m# fall thru to straight lookup\u001b[0m\u001b[0;34m\u001b[0m\u001b[0;34m\u001b[0m\u001b[0m\n\u001b[0;32m-> 1551\u001b[0;31m         \u001b[0mself\u001b[0m\u001b[0;34m.\u001b[0m\u001b[0m_has_valid_type\u001b[0m\u001b[0;34m(\u001b[0m\u001b[0mkey\u001b[0m\u001b[0;34m,\u001b[0m \u001b[0maxis\u001b[0m\u001b[0;34m)\u001b[0m\u001b[0;34m\u001b[0m\u001b[0m\n\u001b[0m\u001b[1;32m   1552\u001b[0m         \u001b[0;32mreturn\u001b[0m \u001b[0mself\u001b[0m\u001b[0;34m.\u001b[0m\u001b[0m_get_label\u001b[0m\u001b[0;34m(\u001b[0m\u001b[0mkey\u001b[0m\u001b[0;34m,\u001b[0m \u001b[0maxis\u001b[0m\u001b[0;34m=\u001b[0m\u001b[0maxis\u001b[0m\u001b[0;34m)\u001b[0m\u001b[0;34m\u001b[0m\u001b[0m\n\u001b[1;32m   1553\u001b[0m \u001b[0;34m\u001b[0m\u001b[0m\n",
      "\u001b[0;32m~/anaconda3/lib/python3.6/site-packages/pandas/core/indexing.py\u001b[0m in \u001b[0;36m_has_valid_type\u001b[0;34m(self, key, axis)\u001b[0m\n\u001b[1;32m   1440\u001b[0m                 \u001b[0;32mraise\u001b[0m\u001b[0;34m\u001b[0m\u001b[0m\n\u001b[1;32m   1441\u001b[0m             \u001b[0;32mexcept\u001b[0m\u001b[0;34m:\u001b[0m\u001b[0;34m\u001b[0m\u001b[0m\n\u001b[0;32m-> 1442\u001b[0;31m                 \u001b[0merror\u001b[0m\u001b[0;34m(\u001b[0m\u001b[0;34m)\u001b[0m\u001b[0;34m\u001b[0m\u001b[0m\n\u001b[0m\u001b[1;32m   1443\u001b[0m \u001b[0;34m\u001b[0m\u001b[0m\n\u001b[1;32m   1444\u001b[0m         \u001b[0;32mreturn\u001b[0m \u001b[0;32mTrue\u001b[0m\u001b[0;34m\u001b[0m\u001b[0m\n",
      "\u001b[0;32m~/anaconda3/lib/python3.6/site-packages/pandas/core/indexing.py\u001b[0m in \u001b[0;36merror\u001b[0;34m()\u001b[0m\n\u001b[1;32m   1427\u001b[0m                                     \"key\")\n\u001b[1;32m   1428\u001b[0m                 raise KeyError(\"the label [%s] is not in the [%s]\" %\n\u001b[0;32m-> 1429\u001b[0;31m                                (key, self.obj._get_axis_name(axis)))\n\u001b[0m\u001b[1;32m   1430\u001b[0m \u001b[0;34m\u001b[0m\u001b[0m\n\u001b[1;32m   1431\u001b[0m             \u001b[0;32mtry\u001b[0m\u001b[0;34m:\u001b[0m\u001b[0;34m\u001b[0m\u001b[0m\n",
      "\u001b[0;31mKeyError\u001b[0m: 'the label [1577993.0] is not in the [index]'"
     ]
    }
   ],
   "source": [
    "print('Evaluating Hybrid model...')\n",
    "hybrid_global_metrics, hybrid_detailed_results_df = model_evaluator.evaluate_model(hybrid_recommender_model)\n",
    "print('\\nGlobal metrics:\\n%s' % hybrid_global_metrics)\n",
    "hybrid_detailed_results_df.head(10)"
   ]
  },
  {
   "cell_type": "markdown",
   "metadata": {},
   "source": [
    "# Comparing Methods"
   ]
  },
  {
   "cell_type": "code",
   "execution_count": 100,
   "metadata": {},
   "outputs": [
    {
     "ename": "NameError",
     "evalue": "name 'pop_global_metrics' is not defined",
     "output_type": "error",
     "traceback": [
      "\u001b[0;31m---------------------------------------------------------------------------\u001b[0m",
      "\u001b[0;31mNameError\u001b[0m                                 Traceback (most recent call last)",
      "\u001b[0;32m<ipython-input-100-6afa89f0e147>\u001b[0m in \u001b[0;36m<module>\u001b[0;34m()\u001b[0m\n\u001b[0;32m----> 1\u001b[0;31m \u001b[0mglobal_metrics_df\u001b[0m \u001b[0;34m=\u001b[0m \u001b[0mpd\u001b[0m\u001b[0;34m.\u001b[0m\u001b[0mDataFrame\u001b[0m\u001b[0;34m(\u001b[0m\u001b[0;34m[\u001b[0m\u001b[0mpop_global_metrics\u001b[0m\u001b[0;34m,\u001b[0m \u001b[0mcf_global_metrics\u001b[0m\u001b[0;34m,\u001b[0m \u001b[0mcb_global_metrics\u001b[0m\u001b[0;34m,\u001b[0m \u001b[0mhybrid_global_metrics\u001b[0m\u001b[0;34m]\u001b[0m\u001b[0;34m)\u001b[0m                         \u001b[0;34m.\u001b[0m\u001b[0mset_index\u001b[0m\u001b[0;34m(\u001b[0m\u001b[0;34m'modelName'\u001b[0m\u001b[0;34m)\u001b[0m\u001b[0;34m\u001b[0m\u001b[0m\n\u001b[0m\u001b[1;32m      2\u001b[0m \u001b[0mglobal_metrics_df\u001b[0m\u001b[0;34m\u001b[0m\u001b[0m\n",
      "\u001b[0;31mNameError\u001b[0m: name 'pop_global_metrics' is not defined"
     ]
    }
   ],
   "source": [
    "global_metrics_df = pd.DataFrame([pop_global_metrics, cf_global_metrics, cb_global_metrics, hybrid_global_metrics]) \\\n",
    "                        .set_index('modelName')\n",
    "global_metrics_df"
   ]
  },
  {
   "cell_type": "code",
   "execution_count": 101,
   "metadata": {},
   "outputs": [
    {
     "ename": "NameError",
     "evalue": "name 'global_metrics_df' is not defined",
     "output_type": "error",
     "traceback": [
      "\u001b[0;31m---------------------------------------------------------------------------\u001b[0m",
      "\u001b[0;31mNameError\u001b[0m                                 Traceback (most recent call last)",
      "\u001b[0;32m<ipython-input-101-f28f24cdefea>\u001b[0m in \u001b[0;36m<module>\u001b[0;34m()\u001b[0m\n\u001b[1;32m      1\u001b[0m \u001b[0mget_ipython\u001b[0m\u001b[0;34m(\u001b[0m\u001b[0;34m)\u001b[0m\u001b[0;34m.\u001b[0m\u001b[0mmagic\u001b[0m\u001b[0;34m(\u001b[0m\u001b[0;34m'matplotlib inline'\u001b[0m\u001b[0;34m)\u001b[0m\u001b[0;34m\u001b[0m\u001b[0m\n\u001b[0;32m----> 2\u001b[0;31m \u001b[0max\u001b[0m \u001b[0;34m=\u001b[0m \u001b[0mglobal_metrics_df\u001b[0m\u001b[0;34m.\u001b[0m\u001b[0mtranspose\u001b[0m\u001b[0;34m(\u001b[0m\u001b[0;34m)\u001b[0m\u001b[0;34m.\u001b[0m\u001b[0mplot\u001b[0m\u001b[0;34m(\u001b[0m\u001b[0mkind\u001b[0m\u001b[0;34m=\u001b[0m\u001b[0;34m'bar'\u001b[0m\u001b[0;34m,\u001b[0m \u001b[0mfigsize\u001b[0m\u001b[0;34m=\u001b[0m\u001b[0;34m(\u001b[0m\u001b[0;36m15\u001b[0m\u001b[0;34m,\u001b[0m\u001b[0;36m8\u001b[0m\u001b[0;34m)\u001b[0m\u001b[0;34m)\u001b[0m\u001b[0;34m\u001b[0m\u001b[0m\n\u001b[0m\u001b[1;32m      3\u001b[0m \u001b[0;32mfor\u001b[0m \u001b[0mp\u001b[0m \u001b[0;32min\u001b[0m \u001b[0max\u001b[0m\u001b[0;34m.\u001b[0m\u001b[0mpatches\u001b[0m\u001b[0;34m:\u001b[0m\u001b[0;34m\u001b[0m\u001b[0m\n\u001b[1;32m      4\u001b[0m     \u001b[0max\u001b[0m\u001b[0;34m.\u001b[0m\u001b[0mannotate\u001b[0m\u001b[0;34m(\u001b[0m\u001b[0;34m\"%.3f\"\u001b[0m \u001b[0;34m%\u001b[0m \u001b[0mp\u001b[0m\u001b[0;34m.\u001b[0m\u001b[0mget_height\u001b[0m\u001b[0;34m(\u001b[0m\u001b[0;34m)\u001b[0m\u001b[0;34m,\u001b[0m \u001b[0;34m(\u001b[0m\u001b[0mp\u001b[0m\u001b[0;34m.\u001b[0m\u001b[0mget_x\u001b[0m\u001b[0;34m(\u001b[0m\u001b[0;34m)\u001b[0m \u001b[0;34m+\u001b[0m \u001b[0mp\u001b[0m\u001b[0;34m.\u001b[0m\u001b[0mget_width\u001b[0m\u001b[0;34m(\u001b[0m\u001b[0;34m)\u001b[0m \u001b[0;34m/\u001b[0m \u001b[0;36m2.\u001b[0m\u001b[0;34m,\u001b[0m \u001b[0mp\u001b[0m\u001b[0;34m.\u001b[0m\u001b[0mget_height\u001b[0m\u001b[0;34m(\u001b[0m\u001b[0;34m)\u001b[0m\u001b[0;34m)\u001b[0m\u001b[0;34m,\u001b[0m \u001b[0mha\u001b[0m\u001b[0;34m=\u001b[0m\u001b[0;34m'center'\u001b[0m\u001b[0;34m,\u001b[0m \u001b[0mva\u001b[0m\u001b[0;34m=\u001b[0m\u001b[0;34m'center'\u001b[0m\u001b[0;34m,\u001b[0m \u001b[0mxytext\u001b[0m\u001b[0;34m=\u001b[0m\u001b[0;34m(\u001b[0m\u001b[0;36m0\u001b[0m\u001b[0;34m,\u001b[0m \u001b[0;36m10\u001b[0m\u001b[0;34m)\u001b[0m\u001b[0;34m,\u001b[0m \u001b[0mtextcoords\u001b[0m\u001b[0;34m=\u001b[0m\u001b[0;34m'offset points'\u001b[0m\u001b[0;34m)\u001b[0m\u001b[0;34m\u001b[0m\u001b[0m\n",
      "\u001b[0;31mNameError\u001b[0m: name 'global_metrics_df' is not defined"
     ]
    }
   ],
   "source": [
    "%matplotlib inline\n",
    "ax = global_metrics_df.transpose().plot(kind='bar', figsize=(15,8))\n",
    "for p in ax.patches:\n",
    "    ax.annotate(\"%.3f\" % p.get_height(), (p.get_x() + p.get_width() / 2., p.get_height()), ha='center', va='center', xytext=(0, 10), textcoords='offset points')"
   ]
  },
  {
   "cell_type": "markdown",
   "metadata": {},
   "source": [
    "# Testing"
   ]
  },
  {
   "cell_type": "code",
   "execution_count": 102,
   "metadata": {
    "collapsed": true
   },
   "outputs": [],
   "source": [
    "def inspect_donations(donor_id, test_set=True):\n",
    "    if test_set:\n",
    "        donations_df = donations_test_indexed_df\n",
    "    else:\n",
    "        donations_df = donations_train_indexed_df\n",
    "    return donations_df.loc[donor_id].merge(projects_df, how = 'left', \n",
    "                                                      left_on = 'project_id', \n",
    "                                                      right_on = 'project_id') \\\n",
    "                          .sort_values('eventStrength', ascending = False)[['eventStrength', \n",
    "                                                                          'project_id']]"
   ]
  },
  {
   "cell_type": "code",
   "execution_count": 103,
   "metadata": {},
   "outputs": [
    {
     "ename": "AttributeError",
     "evalue": "'Series' object has no attribute 'merge'",
     "output_type": "error",
     "traceback": [
      "\u001b[0;31m---------------------------------------------------------------------------\u001b[0m",
      "\u001b[0;31mAttributeError\u001b[0m                            Traceback (most recent call last)",
      "\u001b[0;32m<ipython-input-103-9a35bd08e689>\u001b[0m in \u001b[0;36m<module>\u001b[0;34m()\u001b[0m\n\u001b[0;32m----> 1\u001b[0;31m \u001b[0minspect_donations\u001b[0m\u001b[0;34m(\u001b[0m\u001b[0mdonor1\u001b[0m\u001b[0;34m,\u001b[0m \u001b[0mtest_set\u001b[0m\u001b[0;34m=\u001b[0m\u001b[0;32mFalse\u001b[0m\u001b[0;34m)\u001b[0m\u001b[0;34m.\u001b[0m\u001b[0mhead\u001b[0m\u001b[0;34m(\u001b[0m\u001b[0;36m20\u001b[0m\u001b[0;34m)\u001b[0m\u001b[0;34m\u001b[0m\u001b[0m\n\u001b[0m",
      "\u001b[0;32m<ipython-input-102-42ffd5120902>\u001b[0m in \u001b[0;36minspect_donations\u001b[0;34m(donor_id, test_set)\u001b[0m\n\u001b[1;32m      4\u001b[0m     \u001b[0;32melse\u001b[0m\u001b[0;34m:\u001b[0m\u001b[0;34m\u001b[0m\u001b[0m\n\u001b[1;32m      5\u001b[0m         \u001b[0mdonations_df\u001b[0m \u001b[0;34m=\u001b[0m \u001b[0mdonations_train_indexed_df\u001b[0m\u001b[0;34m\u001b[0m\u001b[0m\n\u001b[0;32m----> 6\u001b[0;31m     return donations_df.loc[donor_id].merge(projects_df, how = 'left', \n\u001b[0m\u001b[1;32m      7\u001b[0m                                                       \u001b[0mleft_on\u001b[0m \u001b[0;34m=\u001b[0m \u001b[0;34m'project_id'\u001b[0m\u001b[0;34m,\u001b[0m\u001b[0;34m\u001b[0m\u001b[0m\n\u001b[1;32m      8\u001b[0m                                                       right_on = 'project_id') \\\n",
      "\u001b[0;32m~/anaconda3/lib/python3.6/site-packages/pandas/core/generic.py\u001b[0m in \u001b[0;36m__getattr__\u001b[0;34m(self, name)\u001b[0m\n\u001b[1;32m   3079\u001b[0m             \u001b[0;32mif\u001b[0m \u001b[0mname\u001b[0m \u001b[0;32min\u001b[0m \u001b[0mself\u001b[0m\u001b[0;34m.\u001b[0m\u001b[0m_info_axis\u001b[0m\u001b[0;34m:\u001b[0m\u001b[0;34m\u001b[0m\u001b[0m\n\u001b[1;32m   3080\u001b[0m                 \u001b[0;32mreturn\u001b[0m \u001b[0mself\u001b[0m\u001b[0;34m[\u001b[0m\u001b[0mname\u001b[0m\u001b[0;34m]\u001b[0m\u001b[0;34m\u001b[0m\u001b[0m\n\u001b[0;32m-> 3081\u001b[0;31m             \u001b[0;32mreturn\u001b[0m \u001b[0mobject\u001b[0m\u001b[0;34m.\u001b[0m\u001b[0m__getattribute__\u001b[0m\u001b[0;34m(\u001b[0m\u001b[0mself\u001b[0m\u001b[0;34m,\u001b[0m \u001b[0mname\u001b[0m\u001b[0;34m)\u001b[0m\u001b[0;34m\u001b[0m\u001b[0m\n\u001b[0m\u001b[1;32m   3082\u001b[0m \u001b[0;34m\u001b[0m\u001b[0m\n\u001b[1;32m   3083\u001b[0m     \u001b[0;32mdef\u001b[0m \u001b[0m__setattr__\u001b[0m\u001b[0;34m(\u001b[0m\u001b[0mself\u001b[0m\u001b[0;34m,\u001b[0m \u001b[0mname\u001b[0m\u001b[0;34m,\u001b[0m \u001b[0mvalue\u001b[0m\u001b[0;34m)\u001b[0m\u001b[0;34m:\u001b[0m\u001b[0;34m\u001b[0m\u001b[0m\n",
      "\u001b[0;31mAttributeError\u001b[0m: 'Series' object has no attribute 'merge'"
     ]
    }
   ],
   "source": [
    "inspect_donations(donor1, test_set=False).head(20)\n"
   ]
  },
  {
   "cell_type": "code",
   "execution_count": 104,
   "metadata": {},
   "outputs": [
    {
     "data": {
      "text/html": [
       "<div>\n",
       "<style>\n",
       "    .dataframe thead tr:only-child th {\n",
       "        text-align: right;\n",
       "    }\n",
       "\n",
       "    .dataframe thead th {\n",
       "        text-align: left;\n",
       "    }\n",
       "\n",
       "    .dataframe tbody tr th {\n",
       "        vertical-align: top;\n",
       "    }\n",
       "</style>\n",
       "<table border=\"1\" class=\"dataframe\">\n",
       "  <thead>\n",
       "    <tr style=\"text-align: right;\">\n",
       "      <th></th>\n",
       "      <th>recStrengthHybrid</th>\n",
       "      <th>project_id</th>\n",
       "      <th>Project Title</th>\n",
       "      <th>Project Essay</th>\n",
       "    </tr>\n",
       "  </thead>\n",
       "  <tbody>\n",
       "    <tr>\n",
       "      <th>0</th>\n",
       "      <td>2.801618e-18</td>\n",
       "      <td>288913</td>\n",
       "      <td>feed my brilliant bookworms!!!</td>\n",
       "      <td>hi there! do you want to help to instill a lif...</td>\n",
       "    </tr>\n",
       "    <tr>\n",
       "      <th>1</th>\n",
       "      <td>2.096616e-18</td>\n",
       "      <td>163851</td>\n",
       "      <td>jonesing for some good comprehension activities</td>\n",
       "      <td>i teach in an integrated co-teaching classroom...</td>\n",
       "    </tr>\n",
       "    <tr>\n",
       "      <th>2</th>\n",
       "      <td>1.651523e-18</td>\n",
       "      <td>577373</td>\n",
       "      <td>claymation experimentation</td>\n",
       "      <td>after seeing my students sewing a jabba the hu...</td>\n",
       "    </tr>\n",
       "    <tr>\n",
       "      <th>3</th>\n",
       "      <td>1.125072e-18</td>\n",
       "      <td>129793</td>\n",
       "      <td>help! third graders need a pencil sharpener</td>\n",
       "      <td>having writing utensils is essential for stude...</td>\n",
       "    </tr>\n",
       "    <tr>\n",
       "      <th>4</th>\n",
       "      <td>1.009650e-18</td>\n",
       "      <td>1000049</td>\n",
       "      <td>purposeful play on the playground</td>\n",
       "      <td>our students come from a title i school in jer...</td>\n",
       "    </tr>\n",
       "    <tr>\n",
       "      <th>5</th>\n",
       "      <td>9.099041e-19</td>\n",
       "      <td>76716</td>\n",
       "      <td>leveled books to help us read!</td>\n",
       "      <td>have you ever been told you need to read, but ...</td>\n",
       "    </tr>\n",
       "    <tr>\n",
       "      <th>6</th>\n",
       "      <td>8.829033e-19</td>\n",
       "      <td>386868</td>\n",
       "      <td>document cameras for student centered learning!</td>\n",
       "      <td>has someone ever tried to explain a concept to...</td>\n",
       "    </tr>\n",
       "    <tr>\n",
       "      <th>7</th>\n",
       "      <td>7.977452e-19</td>\n",
       "      <td>347277</td>\n",
       "      <td>a calming classroom carpet</td>\n",
       "      <td>\"sometimes the questions are complicated and t...</td>\n",
       "    </tr>\n",
       "    <tr>\n",
       "      <th>8</th>\n",
       "      <td>5.147061e-19</td>\n",
       "      <td>531848</td>\n",
       "      <td>best books of 2015</td>\n",
       "      <td>there's no such thing as a kid who hates readi...</td>\n",
       "    </tr>\n",
       "    <tr>\n",
       "      <th>9</th>\n",
       "      <td>4.429421e-19</td>\n",
       "      <td>50843</td>\n",
       "      <td>let's get organized!</td>\n",
       "      <td>help us learn to take responsibility for our m...</td>\n",
       "    </tr>\n",
       "    <tr>\n",
       "      <th>10</th>\n",
       "      <td>3.089302e-19</td>\n",
       "      <td>174387</td>\n",
       "      <td>to read or not to read to meet ccss? we want t...</td>\n",
       "      <td>students are in a rut with a lack of reading m...</td>\n",
       "    </tr>\n",
       "    <tr>\n",
       "      <th>11</th>\n",
       "      <td>2.295249e-19</td>\n",
       "      <td>174586</td>\n",
       "      <td>a second grade literary guild with magic tree ...</td>\n",
       "      <td>my second grades love the magic tree house ser...</td>\n",
       "    </tr>\n",
       "    <tr>\n",
       "      <th>12</th>\n",
       "      <td>2.073850e-19</td>\n",
       "      <td>830600</td>\n",
       "      <td>our learning is on fire!</td>\n",
       "      <td>we are an urban school with a large shelter (h...</td>\n",
       "    </tr>\n",
       "    <tr>\n",
       "      <th>13</th>\n",
       "      <td>1.514341e-19</td>\n",
       "      <td>290601</td>\n",
       "      <td>class size grows, class sets don't - part 2</td>\n",
       "      <td>since i have been an educator, each year has g...</td>\n",
       "    </tr>\n",
       "    <tr>\n",
       "      <th>14</th>\n",
       "      <td>1.340660e-19</td>\n",
       "      <td>173477</td>\n",
       "      <td>mathematicians need materials to support think...</td>\n",
       "      <td>persevere! seek patterns! make sense! connect ...</td>\n",
       "    </tr>\n",
       "    <tr>\n",
       "      <th>15</th>\n",
       "      <td>1.306609e-19</td>\n",
       "      <td>1007528</td>\n",
       "      <td>making magic with the lunch bunch</td>\n",
       "      <td>i am a school counselor in a public, pre-kinde...</td>\n",
       "    </tr>\n",
       "    <tr>\n",
       "      <th>16</th>\n",
       "      <td>8.727860e-20</td>\n",
       "      <td>457408</td>\n",
       "      <td>inspiring future musicians!</td>\n",
       "      <td>i walk in the door so excited to get the stude...</td>\n",
       "    </tr>\n",
       "    <tr>\n",
       "      <th>17</th>\n",
       "      <td>7.671573e-20</td>\n",
       "      <td>325831</td>\n",
       "      <td>you are the \"apple\" of my eye!</td>\n",
       "      <td>teaching: we're not in it for the income; we'r...</td>\n",
       "    </tr>\n",
       "    <tr>\n",
       "      <th>18</th>\n",
       "      <td>7.400733e-20</td>\n",
       "      <td>174849</td>\n",
       "      <td>small groups = big learning!</td>\n",
       "      <td>teaching in small groups has made a huge diffe...</td>\n",
       "    </tr>\n",
       "    <tr>\n",
       "      <th>19</th>\n",
       "      <td>4.775708e-20</td>\n",
       "      <td>603130</td>\n",
       "      <td>teaching character through picture books</td>\n",
       "      <td>\"if you can dream it, you can achieve it\" -wal...</td>\n",
       "    </tr>\n",
       "  </tbody>\n",
       "</table>\n",
       "</div>"
      ],
      "text/plain": [
       "    recStrengthHybrid  project_id  \\\n",
       "0        2.801618e-18      288913   \n",
       "1        2.096616e-18      163851   \n",
       "2        1.651523e-18      577373   \n",
       "3        1.125072e-18      129793   \n",
       "4        1.009650e-18     1000049   \n",
       "5        9.099041e-19       76716   \n",
       "6        8.829033e-19      386868   \n",
       "7        7.977452e-19      347277   \n",
       "8        5.147061e-19      531848   \n",
       "9        4.429421e-19       50843   \n",
       "10       3.089302e-19      174387   \n",
       "11       2.295249e-19      174586   \n",
       "12       2.073850e-19      830600   \n",
       "13       1.514341e-19      290601   \n",
       "14       1.340660e-19      173477   \n",
       "15       1.306609e-19     1007528   \n",
       "16       8.727860e-20      457408   \n",
       "17       7.671573e-20      325831   \n",
       "18       7.400733e-20      174849   \n",
       "19       4.775708e-20      603130   \n",
       "\n",
       "                                        Project Title  \\\n",
       "0                      feed my brilliant bookworms!!!   \n",
       "1     jonesing for some good comprehension activities   \n",
       "2                          claymation experimentation   \n",
       "3         help! third graders need a pencil sharpener   \n",
       "4                   purposeful play on the playground   \n",
       "5                      leveled books to help us read!   \n",
       "6     document cameras for student centered learning!   \n",
       "7                          a calming classroom carpet   \n",
       "8                                  best books of 2015   \n",
       "9                                let's get organized!   \n",
       "10  to read or not to read to meet ccss? we want t...   \n",
       "11  a second grade literary guild with magic tree ...   \n",
       "12                           our learning is on fire!   \n",
       "13        class size grows, class sets don't - part 2   \n",
       "14  mathematicians need materials to support think...   \n",
       "15                  making magic with the lunch bunch   \n",
       "16                        inspiring future musicians!   \n",
       "17                     you are the \"apple\" of my eye!   \n",
       "18                       small groups = big learning!   \n",
       "19           teaching character through picture books   \n",
       "\n",
       "                                        Project Essay  \n",
       "0   hi there! do you want to help to instill a lif...  \n",
       "1   i teach in an integrated co-teaching classroom...  \n",
       "2   after seeing my students sewing a jabba the hu...  \n",
       "3   having writing utensils is essential for stude...  \n",
       "4   our students come from a title i school in jer...  \n",
       "5   have you ever been told you need to read, but ...  \n",
       "6   has someone ever tried to explain a concept to...  \n",
       "7   \"sometimes the questions are complicated and t...  \n",
       "8   there's no such thing as a kid who hates readi...  \n",
       "9   help us learn to take responsibility for our m...  \n",
       "10  students are in a rut with a lack of reading m...  \n",
       "11  my second grades love the magic tree house ser...  \n",
       "12  we are an urban school with a large shelter (h...  \n",
       "13  since i have been an educator, each year has g...  \n",
       "14  persevere! seek patterns! make sense! connect ...  \n",
       "15  i am a school counselor in a public, pre-kinde...  \n",
       "16  i walk in the door so excited to get the stude...  \n",
       "17  teaching: we're not in it for the income; we'r...  \n",
       "18  teaching in small groups has made a huge diffe...  \n",
       "19  \"if you can dream it, you can achieve it\" -wal...  "
      ]
     },
     "execution_count": 104,
     "metadata": {},
     "output_type": "execute_result"
    }
   ],
   "source": [
    "hybrid_recommender_model.recommend_projects(donor1, topn=20)"
   ]
  }
 ],
 "metadata": {
  "kernelspec": {
   "display_name": "Python 3",
   "language": "python",
   "name": "python3"
  },
  "language_info": {
   "codemirror_mode": {
    "name": "ipython",
    "version": 3
   },
   "file_extension": ".py",
   "mimetype": "text/x-python",
   "name": "python",
   "nbconvert_exporter": "python",
   "pygments_lexer": "ipython3",
   "version": "3.6.3"
  }
 },
 "nbformat": 4,
 "nbformat_minor": 2
}
