{
 "cells": [
  {
   "cell_type": "markdown",
   "metadata": {},
   "source": [
    "## Load data"
   ]
  },
  {
   "cell_type": "code",
   "execution_count": 2,
   "metadata": {
    "collapsed": true
   },
   "outputs": [],
   "source": [
    "import pandas as pd # package for high-performance, easy-to-use data structures and data analysis\n",
    "import numpy as np # fundamental package for scientific computing with Python\n",
    "import math"
   ]
  },
  {
   "cell_type": "code",
   "execution_count": 3,
   "metadata": {},
   "outputs": [],
   "source": [
    "donors = pd.read_csv('Donors.csv', low_memory=False)\n",
    "\n",
    "#donors = donors.head(100)"
   ]
  },
  {
   "cell_type": "markdown",
   "metadata": {
    "collapsed": true
   },
   "source": [
    "print(' donations: ',donations.shape,'\\n','donors: ',donors.shape,'\\n','schools',schools.shape,'\\n','teachers',teachers.shape,'\\n','projects',teachers.shape,'\\n','resources',resources.shape)"
   ]
  },
  {
   "cell_type": "code",
   "execution_count": 4,
   "metadata": {},
   "outputs": [
    {
     "data": {
      "text/html": [
       "<div>\n",
       "<style>\n",
       "    .dataframe thead tr:only-child th {\n",
       "        text-align: right;\n",
       "    }\n",
       "\n",
       "    .dataframe thead th {\n",
       "        text-align: left;\n",
       "    }\n",
       "\n",
       "    .dataframe tbody tr th {\n",
       "        vertical-align: top;\n",
       "    }\n",
       "</style>\n",
       "<table border=\"1\" class=\"dataframe\">\n",
       "  <thead>\n",
       "    <tr style=\"text-align: right;\">\n",
       "      <th></th>\n",
       "      <th>Donor ID</th>\n",
       "      <th>Donor City</th>\n",
       "      <th>Donor State</th>\n",
       "      <th>Donor Is Teacher</th>\n",
       "      <th>Donor Zip</th>\n",
       "    </tr>\n",
       "  </thead>\n",
       "  <tbody>\n",
       "    <tr>\n",
       "      <th>0</th>\n",
       "      <td>00000ce845c00cbf0686c992fc369df4</td>\n",
       "      <td>Evanston</td>\n",
       "      <td>Illinois</td>\n",
       "      <td>No</td>\n",
       "      <td>602</td>\n",
       "    </tr>\n",
       "    <tr>\n",
       "      <th>1</th>\n",
       "      <td>00002783bc5d108510f3f9666c8b1edd</td>\n",
       "      <td>Appomattox</td>\n",
       "      <td>other</td>\n",
       "      <td>No</td>\n",
       "      <td>245</td>\n",
       "    </tr>\n",
       "    <tr>\n",
       "      <th>2</th>\n",
       "      <td>00002d44003ed46b066607c5455a999a</td>\n",
       "      <td>Winton</td>\n",
       "      <td>California</td>\n",
       "      <td>Yes</td>\n",
       "      <td>953</td>\n",
       "    </tr>\n",
       "    <tr>\n",
       "      <th>3</th>\n",
       "      <td>00002eb25d60a09c318efbd0797bffb5</td>\n",
       "      <td>Indianapolis</td>\n",
       "      <td>Indiana</td>\n",
       "      <td>No</td>\n",
       "      <td>462</td>\n",
       "    </tr>\n",
       "    <tr>\n",
       "      <th>4</th>\n",
       "      <td>0000300773fe015f870914b42528541b</td>\n",
       "      <td>Paterson</td>\n",
       "      <td>New Jersey</td>\n",
       "      <td>No</td>\n",
       "      <td>075</td>\n",
       "    </tr>\n",
       "  </tbody>\n",
       "</table>\n",
       "</div>"
      ],
      "text/plain": [
       "                           Donor ID    Donor City Donor State  \\\n",
       "0  00000ce845c00cbf0686c992fc369df4      Evanston    Illinois   \n",
       "1  00002783bc5d108510f3f9666c8b1edd    Appomattox       other   \n",
       "2  00002d44003ed46b066607c5455a999a        Winton  California   \n",
       "3  00002eb25d60a09c318efbd0797bffb5  Indianapolis     Indiana   \n",
       "4  0000300773fe015f870914b42528541b      Paterson  New Jersey   \n",
       "\n",
       "  Donor Is Teacher Donor Zip  \n",
       "0               No       602  \n",
       "1               No       245  \n",
       "2              Yes       953  \n",
       "3               No       462  \n",
       "4               No       075  "
      ]
     },
     "execution_count": 4,
     "metadata": {},
     "output_type": "execute_result"
    }
   ],
   "source": [
    "donors.head(5)"
   ]
  },
  {
   "cell_type": "code",
   "execution_count": 5,
   "metadata": {
    "collapsed": true
   },
   "outputs": [],
   "source": [
    "#this piece of code converts Donor_ID which is a 32-bit Hex int to the log of the base 10 equivalent\n",
    "#dfM = pd.read_csv('Donors.csv', low_memory=False)\n",
    "\n",
    "#dfM.rename(index=str, columns={\"Donor ID\": \"donor_id\"},inplace=True)\n",
    "\n",
    "dfM=donors['Donor ID'].apply(pd.Series)\n",
    "\n",
    "dfM[\"new0\"] = np.nan\n",
    "dfM[\"new1\"] = np.nan\n",
    "dfM[\"new2\"] = np.nan\n",
    "dfM[\"new3\"] = np.nan\n",
    "dfM[\"new4\"] = np.nan\n",
    "dfM[\"power\"] = np.nan\n",
    "\n",
    "dfM.new1 = dfM[0].apply(lambda x: str(x[-int(len(x)/2):]))\n",
    "dfM.new0 = dfM[0].apply(lambda x: str(x[:-int(len(x)/2)]))\n",
    "\n",
    "dfM.new0 = dfM.new0.apply(lambda x: (int(x, 16)))\n",
    "dfM.new1 = dfM.new1.apply(lambda x: (int(x, 16)))\n",
    "\n",
    "dfM.power = dfM.new1.apply(lambda x: int(math.log10(x)))\n",
    "\n",
    "dfM.new2 = dfM.new0.apply(lambda x: math.log10(x))\n",
    "dfM.new3 = dfM.new1.apply(lambda x: math.log10(x))\n",
    "\n",
    "dfM.new4 = ((dfM.new2 + dfM.new3 + dfM.power)*10**15)\n",
    "dfM.new4.astype(int)\n",
    "dfM.new4.apply(np.floor)\n",
    "dfM = dfM.drop(['new0', 'new1', 'new2','new3','power'], axis=1)\n",
    "\n",
    "dfM.rename(index=str, columns={0: \"Donor ID\", \"new4\":\"donor_id\"},inplace=True)\n",
    "\n",
    "\n",
    "#add logDonorID as donor_id to donors\n",
    "donors = donors.merge(dfM, left_on='Donor ID', right_on='Donor ID', how=\"left\")\n",
    "\n",
    "#donations = donations.merge(dfM, left_on='Donor ID', right_on='Donor ID', how=\"right\")"
   ]
  },
  {
   "cell_type": "code",
   "execution_count": 6,
   "metadata": {},
   "outputs": [
    {
     "data": {
      "text/plain": [
       "0"
      ]
     },
     "execution_count": 6,
     "metadata": {},
     "output_type": "execute_result"
    }
   ],
   "source": [
    "#check for duplicates\n",
    "from collections import Counter\n",
    "mylist = donors.donor_id\n",
    "a=[k for k,v in Counter(mylist).items() if v>1]\n",
    "len(a)"
   ]
  },
  {
   "cell_type": "code",
   "execution_count": 7,
   "metadata": {},
   "outputs": [
    {
     "data": {
      "text/html": [
       "<div>\n",
       "<style>\n",
       "    .dataframe thead tr:only-child th {\n",
       "        text-align: right;\n",
       "    }\n",
       "\n",
       "    .dataframe thead th {\n",
       "        text-align: left;\n",
       "    }\n",
       "\n",
       "    .dataframe tbody tr th {\n",
       "        vertical-align: top;\n",
       "    }\n",
       "</style>\n",
       "<table border=\"1\" class=\"dataframe\">\n",
       "  <thead>\n",
       "    <tr style=\"text-align: right;\">\n",
       "      <th></th>\n",
       "      <th>Donor ID</th>\n",
       "      <th>Donor City</th>\n",
       "      <th>Donor State</th>\n",
       "      <th>Donor Is Teacher</th>\n",
       "      <th>Donor Zip</th>\n",
       "      <th>donor_id</th>\n",
       "    </tr>\n",
       "  </thead>\n",
       "  <tbody>\n",
       "    <tr>\n",
       "      <th>0</th>\n",
       "      <td>00000ce845c00cbf0686c992fc369df4</td>\n",
       "      <td>Evanston</td>\n",
       "      <td>Illinois</td>\n",
       "      <td>No</td>\n",
       "      <td>602</td>\n",
       "      <td>4.782440e+16</td>\n",
       "    </tr>\n",
       "    <tr>\n",
       "      <th>1</th>\n",
       "      <td>00002783bc5d108510f3f9666c8b1edd</td>\n",
       "      <td>Appomattox</td>\n",
       "      <td>other</td>\n",
       "      <td>No</td>\n",
       "      <td>245</td>\n",
       "      <td>4.972488e+16</td>\n",
       "    </tr>\n",
       "    <tr>\n",
       "      <th>2</th>\n",
       "      <td>00002d44003ed46b066607c5455a999a</td>\n",
       "      <td>Winton</td>\n",
       "      <td>California</td>\n",
       "      <td>Yes</td>\n",
       "      <td>953</td>\n",
       "      <td>4.836073e+16</td>\n",
       "    </tr>\n",
       "    <tr>\n",
       "      <th>3</th>\n",
       "      <td>00002eb25d60a09c318efbd0797bffb5</td>\n",
       "      <td>Indianapolis</td>\n",
       "      <td>Indiana</td>\n",
       "      <td>No</td>\n",
       "      <td>462</td>\n",
       "      <td>5.026328e+16</td>\n",
       "    </tr>\n",
       "    <tr>\n",
       "      <th>4</th>\n",
       "      <td>0000300773fe015f870914b42528541b</td>\n",
       "      <td>Paterson</td>\n",
       "      <td>New Jersey</td>\n",
       "      <td>No</td>\n",
       "      <td>075</td>\n",
       "      <td>5.071083e+16</td>\n",
       "    </tr>\n",
       "  </tbody>\n",
       "</table>\n",
       "</div>"
      ],
      "text/plain": [
       "                           Donor ID    Donor City Donor State  \\\n",
       "0  00000ce845c00cbf0686c992fc369df4      Evanston    Illinois   \n",
       "1  00002783bc5d108510f3f9666c8b1edd    Appomattox       other   \n",
       "2  00002d44003ed46b066607c5455a999a        Winton  California   \n",
       "3  00002eb25d60a09c318efbd0797bffb5  Indianapolis     Indiana   \n",
       "4  0000300773fe015f870914b42528541b      Paterson  New Jersey   \n",
       "\n",
       "  Donor Is Teacher Donor Zip      donor_id  \n",
       "0               No       602  4.782440e+16  \n",
       "1               No       245  4.972488e+16  \n",
       "2              Yes       953  4.836073e+16  \n",
       "3               No       462  5.026328e+16  \n",
       "4               No       075  5.071083e+16  "
      ]
     },
     "execution_count": 7,
     "metadata": {},
     "output_type": "execute_result"
    }
   ],
   "source": [
    "donors.head(5)"
   ]
  },
  {
   "cell_type": "code",
   "execution_count": 8,
   "metadata": {},
   "outputs": [
    {
     "data": {
      "text/plain": [
       "0          4.782440e+16\n",
       "1          4.972488e+16\n",
       "2          4.836073e+16\n",
       "3          5.026328e+16\n",
       "4          5.071083e+16\n",
       "5          5.064371e+16\n",
       "6          5.045585e+16\n",
       "7          5.201484e+16\n",
       "8          5.072579e+16\n",
       "9          5.209977e+16\n",
       "10         5.051297e+16\n",
       "11         5.075352e+16\n",
       "12         5.076792e+16\n",
       "13         5.240549e+16\n",
       "14         5.224751e+16\n",
       "15         5.105908e+16\n",
       "16         5.238592e+16\n",
       "17         5.235027e+16\n",
       "18         5.108328e+16\n",
       "19         5.227502e+16\n",
       "20         5.226773e+16\n",
       "21         5.248669e+16\n",
       "22         5.247505e+16\n",
       "23         5.087434e+16\n",
       "24         5.116655e+16\n",
       "25         5.079559e+16\n",
       "26         5.257336e+16\n",
       "27         5.113755e+16\n",
       "28         5.257221e+16\n",
       "29         5.131830e+16\n",
       "               ...     \n",
       "2122610    5.620866e+16\n",
       "2122611    5.749653e+16\n",
       "2122612    5.619294e+16\n",
       "2122613    5.617726e+16\n",
       "2122614    5.527869e+16\n",
       "2122615    5.402684e+16\n",
       "2122616    5.751680e+16\n",
       "2122617    5.748365e+16\n",
       "2122618    5.621188e+16\n",
       "2122619    5.728177e+16\n",
       "2122620    5.742404e+16\n",
       "2122621    5.585064e+16\n",
       "2122622    5.732763e+16\n",
       "2122623    5.615090e+16\n",
       "2122624    5.625118e+16\n",
       "2122625    5.728940e+16\n",
       "2122626    5.750603e+16\n",
       "2122627    5.597274e+16\n",
       "2122628    5.730906e+16\n",
       "2122629    5.599904e+16\n",
       "2122630    5.608113e+16\n",
       "2122631    5.738772e+16\n",
       "2122632    5.592767e+16\n",
       "2122633    5.748427e+16\n",
       "2122634    5.746045e+16\n",
       "2122635    5.555801e+16\n",
       "2122636    5.589303e+16\n",
       "2122637    5.732498e+16\n",
       "2122638    5.531066e+16\n",
       "2122639    5.618868e+16\n",
       "Name: donor_id, Length: 2122640, dtype: float64"
      ]
     },
     "execution_count": 8,
     "metadata": {},
     "output_type": "execute_result"
    }
   ],
   "source": [
    "donors.donor_id.apply(np.floor)"
   ]
  },
  {
   "cell_type": "code",
   "execution_count": 9,
   "metadata": {},
   "outputs": [
    {
     "data": {
      "text/plain": [
       "47824396695228792.0"
      ]
     },
     "execution_count": 9,
     "metadata": {},
     "output_type": "execute_result"
    }
   ],
   "source": [
    "donors.donor_id.iloc[0]"
   ]
  }
 ],
 "metadata": {
  "kernelspec": {
   "display_name": "Python 3",
   "language": "python",
   "name": "python3"
  },
  "language_info": {
   "codemirror_mode": {
    "name": "ipython",
    "version": 3
   },
   "file_extension": ".py",
   "mimetype": "text/x-python",
   "name": "python",
   "nbconvert_exporter": "python",
   "pygments_lexer": "ipython3",
   "version": "3.6.3"
  }
 },
 "nbformat": 4,
 "nbformat_minor": 2
}
